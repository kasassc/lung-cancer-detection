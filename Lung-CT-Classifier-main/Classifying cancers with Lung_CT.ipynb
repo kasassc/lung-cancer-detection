{
  "nbformat": 4,
  "nbformat_minor": 0,
  "metadata": {
    "colab": {
      "provenance": [],
      "collapsed_sections": []
    },
    "kernelspec": {
      "name": "python3",
      "display_name": "Python 3"
    },
    "accelerator": "GPU"
  },
  "cells": [
    {
      "cell_type": "markdown",
      "metadata": {
        "id": "jek6Gi7ynbs9"
      },
      "source": [
        "#**Classifying Lung Cancer with Lung CT by Deep Learning**\n",
        "###Introduction to Brain and Machine Learning, 2020-2\n",
        "###Korea University, Prof. Seok\n",
        "###John Leo"
      ]
    },
    {
      "cell_type": "markdown",
      "metadata": {
        "id": "i__gSd8Vc9O6"
      },
      "source": [
        "#**Used Library for the project**\n",
        "---\n",
        "1. **numpy**: For loading data and structuring the data and to standarization the data\n",
        "2. **tensorflow**: Build the model to classify the data\n",
        "3. **matplotlib**: To display the loss and accuracy of the model\n",
        "4. **scikitlearn**: to split the data to train and validation"
      ]
    },
    {
      "cell_type": "code",
      "metadata": {
        "id": "fu37TTJgnxq9"
      },
      "source": [
        "import pandas as pd\n",
        "import numpy as np\n",
        "import tensorflow as tf\n",
        "from tensorflow.keras.utils import to_categorical\n",
        "from matplotlib import pyplot as plt\n",
        "from sklearn.model_selection import train_test_split"
      ],
      "execution_count": null,
      "outputs": []
    },
    {
      "cell_type": "code",
      "metadata": {
        "id": "GuKOJaNOoE-7"
      },
      "source": [
        "data = np.load(\"/content/drive/MyDrive/assignment#2/trn_dat.npy\")\n",
        "label = np.load(\"/content/drive/MyDrive/assignment#2/trn_lbl.npy\")\n",
        "\n",
        "min = np.min(data)\n",
        "max = np.max(data)"
      ],
      "execution_count": null,
      "outputs": []
    },
    {
      "cell_type": "markdown",
      "metadata": {
        "id": "oskzYHpyd_Lk"
      },
      "source": [
        "#**PreProcessing of the given Data**\n",
        "---\n",
        "##**Class**\n",
        "###**::DataPreprocessor(data, nClass, nLowerCut, nUpperCut)**\n",
        "This class split the given data to train and validation. With these splitted data, each dataset preprocessed by the ***Standarization*** to get the more actual predict by the model.\n",
        "\n",
        "**Before that,** as I researched about the CT image, the CT image can be ranged bt the specific unit that is called ***HU(Hounsfield Unit)***, the range of the Lung is found to range of -600 to -400.\n",
        "\n",
        "To get the more wider range of the pixel, each images are cutted by little bit wider range, from -900 to -200.\n",
        "\n",
        "####**Methods**\n",
        "\n",
        "- **def spliter()**: Split the data to train and validation dataset\n",
        "\n",
        "\n",
        "- **def Standarization(x_train, x_val)**: Standarization the data with the mean and the standard deviation.\n",
        "\n",
        "\n",
        "- **def Preprocessor()**:Set the pixels' range from -600 to -200 to get more accurate pixels' range with the image.\n",
        "\n",
        "\n",
        "\n",
        "\n"
      ]
    },
    {
      "cell_type": "markdown",
      "metadata": {
        "id": "0XKZLNUFjPT7"
      },
      "source": [
        "![The-Hounsfield-scale-of-CT-numbers.png](data:image/png;base64,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)\n",
        "\n",
        "#####Reference: https://www.researchgate.net/figure/The-Hounsfield-scale-of-CT-numbers_fig2_306033192"
      ]
    },
    {
      "cell_type": "code",
      "metadata": {
        "colab": {
          "base_uri": "https://localhost:8080/"
        },
        "id": "jGti2pLX26mg",
        "outputId": "463a0a57-c76b-4dbd-a4f2-b6e5e95d4754"
      },
      "source": [
        "class DataPreprocessor:\n",
        "  def __init__(self, data, label, nClass, nLowerCut, nUpperCut):\n",
        "    self.data = data\n",
        "    self.label = label\n",
        "    self.nClass = nClass\n",
        "    self.nLowerCut = nLowerCut\n",
        "    self.nUpperCut = nUpperCut\n",
        "    self.x_train = self.spliter()[0]\n",
        "    self.x_val = self.spliter()[1]\n",
        "    self.y_train = self.spliter()[2]\n",
        "    self.y_val = self.spliter()[3]\n",
        "    self.frame = self.data.shape[3]\n",
        "\n",
        "  def spliter(self):\n",
        "    x_train, x_val, y_train, y_val = train_test_split(self.data, self.label, test_size=0.1, random_state=18)\n",
        "    return x_train, x_val, y_train, y_val\n",
        "\n",
        "  def Standarization(self, x_train, x_val):\n",
        "\n",
        "      mean = np.zeros((self.frame), dtype='float32')\n",
        "      std  = np.zeros((self.frame), dtype='float32')\n",
        "\n",
        "      X_train = np.ones(x_train.shape)\n",
        "      X_val = np.ones(x_val.shape)\n",
        "      \n",
        "      #derive the mean and standard deviation only from the dataset\n",
        "      for i in range(self.frame):\n",
        "          mean[i] = np.mean(x_train[:,:,:,i])\n",
        "          std[i] = np.std(x_train[:,:,:,i])\n",
        "\n",
        "      print(mean, std)\n",
        "\n",
        "      #data standarization work with train and validation dataset\n",
        "      for i in range(self.frame):\n",
        "\n",
        "          X_train[:,:,:,i] = x_train[:,:,:,i] - mean[i]\n",
        "          X_train[:,:,:,i] = X_train[:,:,:,i] / std[i]\n",
        "\n",
        "          X_val[:,:,:,i] = x_val[:,:,:,i] - mean[i]\n",
        "          X_val[:,:,:,i] = X_val[:,:,:,i] / std[i]\n",
        "\n",
        "      return X_train, X_val\n",
        "\n",
        "  def Preprocessor(self):\n",
        "\n",
        "      x_train = np.where((self.x_train < self.nLowerCut), self.nLowerCut, self.x_train)\n",
        "      x_train = np.where((self.x_train > self.nUpperCut), self.nUpperCut, self.x_train)\n",
        "\n",
        "\n",
        "      x_train, x_val = self.Standarization(x_train, self.x_val)\n",
        "      y_train = to_categorical(self.y_train, self.nClass)\n",
        "      y_val = to_categorical(self.y_val, self.nClass)\n",
        "      \n",
        "      return x_train, y_train, x_val, y_val\n",
        "\n",
        "Data = DataPreprocessor(data, label, 2, -950, -200).Preprocessor()\n",
        "\n",
        "x_train, y_train, x_val, y_val = Data"
      ],
      "execution_count": null,
      "outputs": [
        {
          "output_type": "stream",
          "text": [
            "[-683.5113  -683.20935 -682.69055 -681.5584  -679.8325  -677.9535\n",
            " -675.62885 -673.42834 -671.9363  -672.0834  -674.40826 -678.119\n",
            " -682.25275 -685.9221  -688.7594  -690.94794] [272.24457 271.89212 271.6866  271.82812 272.02277 272.50583 273.10114\n",
            " 273.8781  274.51743 274.30087 273.28656 271.53915 269.98288 268.83102\n",
            " 267.9114  267.39877]\n"
          ],
          "name": "stdout"
        }
      ]
    },
    {
      "cell_type": "markdown",
      "metadata": {
        "id": "L9M2TDKwuLGU"
      },
      "source": [
        "#**Create the Model with Keras**\n",
        "---\n",
        "###**Methods for constructing the Model**\n",
        "\n",
        "####**Arguments**\n",
        "- **nInputDim**: The Shape of the input\n",
        "\n",
        "- **nodeNum**: The number of the nodes of the layers\n",
        "\n",
        "- **nKernel**: The size of the Filter\n",
        "\n",
        "- **nPool**: The size of the Pooling Layer\n",
        "\n",
        "- **sAct**: The activation function of the Layer\n",
        "---\n",
        "**LayerStart(model, nInputDim, nKernel, nPool, sAct)**:\n",
        "\n",
        "- ***Conv2D -> Activation -> Conv2D -> Activation -> BatchNormalization -> MaxPooling2D***\n",
        "\n",
        "**LayerAdd2D(model, nodeNum, nKernel, nPool, sAct)**\n",
        "\n",
        "- ***Conv2D -> Activation -> BatchNormalization -> Conv2D -> Activation -> BatchNormalization -> MaxPooling2D***\n",
        "\n",
        "**LayerStart1D(model, nInputDim, nodeNum, sAct)**\n",
        "\n",
        "- ***Dense -> Activation -> BatchNormalization***\n",
        "\n",
        "**LayerAdd1D(model, nodeNum, sAct)**\n",
        "- ***Dense -> Activation -> BatchNormalization***\n",
        "\n",
        "**LayerEnd(model, nClasses, sAct)**\n",
        "- ***Dense -> Activation***"
      ]
    },
    {
      "cell_type": "code",
      "metadata": {
        "id": "UAj_snIn6QIj"
      },
      "source": [
        "from tensorflow.keras.models import Sequential\n",
        "from tensorflow.keras.layers import Dense, Activation, Flatten\n",
        "from tensorflow.keras.layers import Add\n",
        "from tensorflow.keras.layers import Conv2D, MaxPooling2D\n",
        "from tensorflow.keras.optimizers import Adam, RMSprop\n",
        "from tensorflow.keras.layers import BatchNormalization\n",
        "\n",
        "def LayerStart(x, nInputDim, nodeNum, nKernel, nPool, sAct):\n",
        "    x.add(Conv2D(nodeNum, (nKernel, nKernel), padding='same',  input_shape= nInputDim))\n",
        "    x.add(Activation(sAct))\n",
        "    x.add(Conv2D(nodeNum, (nKernel, nKernel)))\n",
        "    x.add(Activation(sAct))\n",
        "    x.add(BatchNormalization())\n",
        "    x.add(MaxPooling2D(pool_size=(nPool, nPool)))\n",
        "    return x, nodeNum\n",
        "\n",
        "\n",
        "def LayerAdd2D(x, nodeNum, nKernel, nPool, sAct):\n",
        "    x.add(Conv2D(nodeNum, (nKernel, nKernel), padding='same'))\n",
        "    x.add(Activation(sAct))\n",
        "    x.add(BatchNormalization())\n",
        "    x.add(Conv2D(nodeNum, (nKernel, nKernel)))\n",
        "    x.add(Activation(sAct))\n",
        "    x.add(BatchNormalization())\n",
        "    x.add(MaxPooling2D(pool_size=(nPool, nPool)))\n",
        "    return x, nodeNum\n",
        "\n",
        "def LayerStart1D(x, nInputDim, nodeNum, sAct):\n",
        "    x.add(Dense(nodeNum, input_shape=(nInputDim, ),activation= sAct)) \n",
        "    x.add(BatchNormalization()) \n",
        "    return x, nodeNum\n",
        "\n",
        "def LayerAdd1D(x, nodeNum, sAct):\n",
        "    x.add(Dense(nodeNum, activation= sAct))\n",
        "    x.add(BatchNormalization()) \n",
        "    return x, nodeNum\n",
        "\n",
        "\n",
        "def LayerEnd(x, nClasses, sAct):\n",
        "    x.add(Dense(nClasses))\n",
        "    x.add(Activation(sAct))\n",
        "    return x"
      ],
      "execution_count": null,
      "outputs": []
    },
    {
      "cell_type": "markdown",
      "metadata": {
        "id": "PExbppGLuXX-"
      },
      "source": [
        "###**Methods for displaying the Loss and Accuracy**\n",
        "---\n",
        "- **Display_Loss(hist, sTitle)**: Display the Loss of the Model\n",
        "\n",
        "- **Display_Accuracy(hist, sTitle)**: Display the Accuracy of the Model\n"
      ]
    },
    {
      "cell_type": "code",
      "metadata": {
        "id": "eQV4fhgOAKw8"
      },
      "source": [
        "def Display_Loss(hist, sTitle):\n",
        "\n",
        "      sTitle = sTitle + '\\n Loss-epochs'\n",
        "      plt.title(sTitle)\n",
        "      plt.xlabel('epochs')\n",
        "      plt.ylabel('loss')\n",
        "      plt.grid()\n",
        "\n",
        "      plt.plot(hist.history['loss'], label='train loss')\n",
        "      plt.plot(hist.history['val_loss'], label='validation loss')\n",
        "\n",
        "      plt.legend(loc='best')\n",
        "\n",
        "      return plt.show()\n",
        "\n",
        "def Display_Accuracy(hist, sTitle):\n",
        "\n",
        "    sTitle = sTitle + '\\n Accuracy-Epochs'\n",
        "    plt.title(sTitle)\n",
        "    plt.xlabel('epochs')\n",
        "    plt.ylabel('accuracy')\n",
        "    plt.grid()\n",
        "\n",
        "    plt.plot(hist.history['accuracy'], label='train accuracy')\n",
        "    plt.plot(hist.history['val_accuracy'], label='validation accuracy')\n",
        "\n",
        "    plt.legend(loc='best')\n",
        "\n",
        "    return plt.show()"
      ],
      "execution_count": null,
      "outputs": []
    },
    {
      "cell_type": "markdown",
      "metadata": {
        "id": "Vy2mHU7Bszb0"
      },
      "source": [
        "##**Defining the Model**\n",
        "---\n",
        "Impressed by the ResNet, I created the model that optimized to the given Lung Data. The model is more shorter than the ResNet, but the basic Structure of the model is similar with it.\n",
        "\n",
        "**The Unique** thing is that at the Fully Connected Layers, the **Activation Functions** are set to ***Linear***, which is not recommended to use since the ***Linear*** Activation derives the problems with the BackPropagation.\n",
        "\n",
        "**However**, here in this model, the ***Linear*** function derived more accurate result with this specific task.\n",
        "\n",
        "---\n",
        "\n",
        "###**Convolutional Layer**\n",
        "\n",
        "***Conv2D -> Activation(RELU) -> Conv2D -> Activation(RELU) -> BatchNormalization -> MaxPooling2D ->***\n",
        "\n",
        "***Conv2D -> Activation(RELU) -> BatchNormalization -> Conv2D -> Activation(RELU) -> BatchNormalization -> MaxPooling2D ->***\n",
        "\n",
        "***Conv2D -> Activation(RELU) -> BatchNormalization -> Conv2D -> Activation(RELU) -> BatchNormalization -> MaxPooling2D ->***\n",
        "\n",
        "***Conv2D -> Activation(RELU) -> BatchNormalization -> Conv2D -> Activation(RELU) -> BatchNormalization -> MaxPooling2D*** ***-> Flatten***\n",
        "\n",
        "\n",
        "\n",
        "###**Fully Connected**\n",
        "\n",
        "***Dense -> Activation(LINEAR) -> BatchNormalization ->***\n",
        "***Dense -> Activation(LINEAR) -> BatchNormalization ->***\n",
        "***Dense -> Activation(SIGMOID) -> BatchNormalization ->***\n",
        "***Dense -> Activation(SOFTMAX)***"
      ]
    },
    {
      "cell_type": "code",
      "metadata": {
        "id": "74YSOOUJIo5w"
      },
      "source": [
        "class CreateModel:\n",
        "  def __init__(self, nKernel ,nPool, LearningRate, inputShape):\n",
        "    self.LearningRate = LearningRate\n",
        "    self.inputShape = inputShape\n",
        "    self.nKernel = nKernel\n",
        "    self.nPool = nPool\n",
        "\n",
        "  def Model(self):\n",
        "    nodes = 32\n",
        "\n",
        "    model = Sequential()\n",
        "    model, nInput = LayerStart(model, self.inputShape, nodes, self.nKernel, self.nPool,'relu')\n",
        "    model, nInput = LayerAdd2D(model, nInput*2, self.nKernel, self.nPool,'relu')\n",
        "    model, nInput = LayerAdd2D(model, nInput, 1, 1, 'relu')\n",
        "    model, nInput = LayerAdd2D(model, nInput, self.nKernel, self.nPool,'relu')\n",
        "    model.add(Flatten())\n",
        "\n",
        "    model, nInput = LayerStart1D(model, nInput, nInput*2, 'linear')\n",
        "    model, nInput = LayerAdd1D(model, nInput, 'linear')\n",
        "    model, nInput = LayerAdd1D(model, nInput*2, 'sigmoid')\n",
        "    model = LayerEnd(model, 2, 'softmax')\n",
        "    model.summary()\n",
        "    return model\n",
        "\n",
        "  def Model_Compile(self):\n",
        "    Optimizer = Adam(learning_rate=self.LearningRate) # RMSprop Adam\n",
        "    model = self.Model()\n",
        "    model.compile(optimizer=Optimizer, loss='categorical_crossentropy' , metrics=['accuracy'])\n",
        "    return model\n",
        "\n"
      ],
      "execution_count": null,
      "outputs": []
    },
    {
      "cell_type": "markdown",
      "metadata": {
        "id": "NkTw0JMvv9Gc"
      },
      "source": [
        "##**Training The Model**\n",
        "---\n",
        "To train the model, there are used some twicks for optimizing, like scheduler, reducer etc. With the end of the each batch, the callback of the tensorflow optimize the learning rate also with the Optimizers which optimize the weights of the model.\n",
        "\n",
        "---\n",
        "- **def scheduler(nEpoch)**: The scheduler that managning the learning rate of the model with the each epoch by training\n",
        "\n",
        "- **def Model_Train(dir, filename, nBatch, nEpochs, nLearningRate, Data)**\n",
        "\n",
        "  >**Checkpoints**: Save the checkpoints of the model when the model get the largest accuracy\n",
        "\n",
        "  >**Scheduler**: Changing the learning rate of the model by each epochs\n",
        "\n",
        "  >**ImageDataGenerator**: Augment the images  with the various twicks such as flip, \n",
        "rotate, zoom, etc.\n",
        "\n"
      ]
    },
    {
      "cell_type": "code",
      "metadata": {
        "id": "lXdYjCPDDP_p"
      },
      "source": [
        "from tensorflow.keras.models import save_model\n",
        "from tensorflow.keras.callbacks import ModelCheckpoint, LearningRateScheduler, ReduceLROnPlateau\n",
        "import os\n",
        "from tensorflow.keras.preprocessing.image import ImageDataGenerator\n",
        "\n",
        "lr_range = 200\n",
        "learningRate = 0.01\n",
        "lr_endvalue = 0.0001\n",
        "\n",
        "def scheduler(nEpoch):# Learning Rate Schedule\n",
        "\n",
        "    lr = (learningRate - lr_endvalue) * (1 - nEpoch/lr_range )\n",
        "    if  lr < lr_endvalue:\n",
        "        lr = lr_endvalue\n",
        "   \n",
        "    return lr\n",
        "\n",
        "def Model_Train(dir, filename, nBatch, nEpochs, nLearningRate, Data):\n",
        "\n",
        "    x_train, y_train, x_val, y_val = Data\n",
        "\n",
        "    model = CreateModel(nKernel = 3, nPool = 2, LearningRate = nLearningRate, inputShape = x_train.shape[1:]).Model_Compile()\n",
        "\n",
        "    str_PathFn = os.path.join(dir, filename)\n",
        "    str_CkptFn = str_PathFn + \"_{epoch:04d} Acc{val_accuracy:.4f} Loss{val_loss:.2f}\"\n",
        "\n",
        "    CheckPoint = ModelCheckpoint(filepath=str_CkptFn, monitor='val_accuracy', verbose=1, save_best_only=True, mode='max', save_weights_only=True) \n",
        "    lr_scheduler = LearningRateScheduler(scheduler)\n",
        "    lr_reducer = ReduceLROnPlateau(factor=np.sqrt(0.1), cooldown=0, patience=5, min_lr=0.5e-6)\n",
        "\n",
        "    nCallbacks = [CheckPoint, lr_scheduler, lr_reducer]\n",
        "    \n",
        "\n",
        "    nData = ImageDataGenerator(rotation_range=0, width_shift_range=0.05, height_shift_range=0.05, shear_range= 0.05, zoom_range=  [0.9, 1.2], horizontal_flip= True, vertical_flip= True)\n",
        "    data_flow = nData.flow(x_train, y_train, batch_size=nBatch)\n",
        "\n",
        "    hist = model.fit_generator(data_flow, epochs=nEpochs, verbose=1, callbacks=[nCallbacks],  validation_data=(x_val, y_val), shuffle=True)\n",
        "\n",
        "    str_Title = \"Model_Fit_Generate Data \"\n",
        "    Display_Loss(hist, str_Title)\n",
        "    Display_Accuracy(hist, str_Title)\n",
        "  \n",
        "    loss, acc = model.evaluate(x_val, y_val, verbose=2)\n",
        "    save2h5 = str_PathFn + '.h5'\n",
        "    save_model(model, save2h5, save_format='h5')\n",
        "\n",
        "\n",
        "    return model"
      ],
      "execution_count": null,
      "outputs": []
    },
    {
      "cell_type": "markdown",
      "metadata": {
        "id": "7B2hQDVEB2WE"
      },
      "source": [
        "###**Run the training the Model**"
      ]
    },
    {
      "cell_type": "code",
      "metadata": {
        "colab": {
          "base_uri": "https://localhost:8080/"
        },
        "id": "SbYwHNHFFwax",
        "outputId": "21c58ac6-d244-4afc-c337-5ce0cf051089"
      },
      "source": [
        "dir = \"/content/drive/My Drive/LungComplete2-1\"\n",
        "filename = \"Train\"\n",
        "nBatch = 64\n",
        "nEpochs = 300\n",
        "nLearningRate = 0.01\n",
        "model = Model_Train(dir, filename, nBatch, nEpochs, nLearningRate, Data)"
      ],
      "execution_count": null,
      "outputs": [
        {
          "output_type": "stream",
          "text": [
            "Model: \"sequential_3\"\n",
            "_________________________________________________________________\n",
            "Layer (type)                 Output Shape              Param #   \n",
            "=================================================================\n",
            "conv2d_24 (Conv2D)           (None, 32, 32, 32)        4640      \n",
            "_________________________________________________________________\n",
            "activation_27 (Activation)   (None, 32, 32, 32)        0         \n",
            "_________________________________________________________________\n",
            "conv2d_25 (Conv2D)           (None, 30, 30, 32)        9248      \n",
            "_________________________________________________________________\n",
            "activation_28 (Activation)   (None, 30, 30, 32)        0         \n",
            "_________________________________________________________________\n",
            "batch_normalization_30 (Batc (None, 30, 30, 32)        128       \n",
            "_________________________________________________________________\n",
            "max_pooling2d_12 (MaxPooling (None, 15, 15, 32)        0         \n",
            "_________________________________________________________________\n",
            "conv2d_26 (Conv2D)           (None, 15, 15, 64)        18496     \n",
            "_________________________________________________________________\n",
            "activation_29 (Activation)   (None, 15, 15, 64)        0         \n",
            "_________________________________________________________________\n",
            "batch_normalization_31 (Batc (None, 15, 15, 64)        256       \n",
            "_________________________________________________________________\n",
            "conv2d_27 (Conv2D)           (None, 13, 13, 64)        36928     \n",
            "_________________________________________________________________\n",
            "activation_30 (Activation)   (None, 13, 13, 64)        0         \n",
            "_________________________________________________________________\n",
            "batch_normalization_32 (Batc (None, 13, 13, 64)        256       \n",
            "_________________________________________________________________\n",
            "max_pooling2d_13 (MaxPooling (None, 6, 6, 64)          0         \n",
            "_________________________________________________________________\n",
            "conv2d_28 (Conv2D)           (None, 6, 6, 64)          4160      \n",
            "_________________________________________________________________\n",
            "activation_31 (Activation)   (None, 6, 6, 64)          0         \n",
            "_________________________________________________________________\n",
            "batch_normalization_33 (Batc (None, 6, 6, 64)          256       \n",
            "_________________________________________________________________\n",
            "conv2d_29 (Conv2D)           (None, 6, 6, 64)          4160      \n",
            "_________________________________________________________________\n",
            "activation_32 (Activation)   (None, 6, 6, 64)          0         \n",
            "_________________________________________________________________\n",
            "batch_normalization_34 (Batc (None, 6, 6, 64)          256       \n",
            "_________________________________________________________________\n",
            "max_pooling2d_14 (MaxPooling (None, 6, 6, 64)          0         \n",
            "_________________________________________________________________\n",
            "conv2d_30 (Conv2D)           (None, 6, 6, 64)          36928     \n",
            "_________________________________________________________________\n",
            "activation_33 (Activation)   (None, 6, 6, 64)          0         \n",
            "_________________________________________________________________\n",
            "batch_normalization_35 (Batc (None, 6, 6, 64)          256       \n",
            "_________________________________________________________________\n",
            "conv2d_31 (Conv2D)           (None, 4, 4, 64)          36928     \n",
            "_________________________________________________________________\n",
            "activation_34 (Activation)   (None, 4, 4, 64)          0         \n",
            "_________________________________________________________________\n",
            "batch_normalization_36 (Batc (None, 4, 4, 64)          256       \n",
            "_________________________________________________________________\n",
            "max_pooling2d_15 (MaxPooling (None, 2, 2, 64)          0         \n",
            "_________________________________________________________________\n",
            "flatten_3 (Flatten)          (None, 256)               0         \n",
            "_________________________________________________________________\n",
            "dense_12 (Dense)             (None, 128)               32896     \n",
            "_________________________________________________________________\n",
            "batch_normalization_37 (Batc (None, 128)               512       \n",
            "_________________________________________________________________\n",
            "dense_13 (Dense)             (None, 128)               16512     \n",
            "_________________________________________________________________\n",
            "batch_normalization_38 (Batc (None, 128)               512       \n",
            "_________________________________________________________________\n",
            "dense_14 (Dense)             (None, 256)               33024     \n",
            "_________________________________________________________________\n",
            "batch_normalization_39 (Batc (None, 256)               1024      \n",
            "_________________________________________________________________\n",
            "dense_15 (Dense)             (None, 2)                 514       \n",
            "_________________________________________________________________\n",
            "activation_35 (Activation)   (None, 2)                 0         \n",
            "=================================================================\n",
            "Total params: 238,146\n",
            "Trainable params: 236,290\n",
            "Non-trainable params: 1,856\n",
            "_________________________________________________________________\n",
            "WARNING:tensorflow:From <ipython-input-8-9293dcb028c7>:37: Model.fit_generator (from tensorflow.python.keras.engine.training) is deprecated and will be removed in a future version.\n",
            "Instructions for updating:\n",
            "Please use Model.fit, which supports generators.\n"
          ],
          "name": "stdout"
        },
        {
          "output_type": "stream",
          "text": [
            "/usr/local/lib/python3.6/dist-packages/keras_preprocessing/image/numpy_array_iterator.py:136: UserWarning: NumpyArrayIterator is set to use the data format convention \"channels_last\" (channels on axis 3), i.e. expected either 1, 3, or 4 channels on axis 3. However, it was passed an array with shape (2520, 32, 32, 16) (16 channels).\n",
            "  str(self.x.shape[channels_axis]) + ' channels).')\n"
          ],
          "name": "stderr"
        },
        {
          "output_type": "stream",
          "text": [
            "Epoch 1/300\n",
            "40/40 [==============================] - ETA: 0s - loss: 0.9790 - accuracy: 0.6306\n",
            "Epoch 00001: val_accuracy improved from -inf to 0.51429, saving model to /content/drive/My Drive/LungComplete2-1/Train_0001 Acc0.5143 Loss0.88\n",
            "40/40 [==============================] - 4s 104ms/step - loss: 0.9790 - accuracy: 0.6306 - val_loss: 0.8799 - val_accuracy: 0.5143\n",
            "Epoch 2/300\n",
            "40/40 [==============================] - ETA: 0s - loss: 0.5476 - accuracy: 0.7381\n",
            "Epoch 00002: val_accuracy improved from 0.51429 to 0.53214, saving model to /content/drive/My Drive/LungComplete2-1/Train_0002 Acc0.5321 Loss1.12\n",
            "40/40 [==============================] - 4s 96ms/step - loss: 0.5476 - accuracy: 0.7381 - val_loss: 1.1176 - val_accuracy: 0.5321\n",
            "Epoch 3/300\n",
            "40/40 [==============================] - ETA: 0s - loss: 0.4504 - accuracy: 0.7905\n",
            "Epoch 00003: val_accuracy improved from 0.53214 to 0.60714, saving model to /content/drive/My Drive/LungComplete2-1/Train_0003 Acc0.6071 Loss0.72\n",
            "40/40 [==============================] - 4s 96ms/step - loss: 0.4504 - accuracy: 0.7905 - val_loss: 0.7220 - val_accuracy: 0.6071\n",
            "Epoch 4/300\n",
            "40/40 [==============================] - ETA: 0s - loss: 0.4395 - accuracy: 0.8004\n",
            "Epoch 00004: val_accuracy improved from 0.60714 to 0.65000, saving model to /content/drive/My Drive/LungComplete2-1/Train_0004 Acc0.6500 Loss1.02\n",
            "40/40 [==============================] - 4s 98ms/step - loss: 0.4395 - accuracy: 0.8004 - val_loss: 1.0152 - val_accuracy: 0.6500\n",
            "Epoch 5/300\n",
            "40/40 [==============================] - ETA: 0s - loss: 0.4257 - accuracy: 0.8119\n",
            "Epoch 00005: val_accuracy did not improve from 0.65000\n",
            "40/40 [==============================] - 4s 95ms/step - loss: 0.4257 - accuracy: 0.8119 - val_loss: 0.5666 - val_accuracy: 0.6107\n",
            "Epoch 6/300\n",
            "40/40 [==============================] - ETA: 0s - loss: 0.3742 - accuracy: 0.8393\n",
            "Epoch 00006: val_accuracy improved from 0.65000 to 0.77500, saving model to /content/drive/My Drive/LungComplete2-1/Train_0006 Acc0.7750 Loss0.50\n",
            "40/40 [==============================] - 4s 97ms/step - loss: 0.3742 - accuracy: 0.8393 - val_loss: 0.4951 - val_accuracy: 0.7750\n",
            "Epoch 7/300\n",
            "40/40 [==============================] - ETA: 0s - loss: 0.3269 - accuracy: 0.8698\n",
            "Epoch 00007: val_accuracy improved from 0.77500 to 0.83214, saving model to /content/drive/My Drive/LungComplete2-1/Train_0007 Acc0.8321 Loss0.37\n",
            "40/40 [==============================] - 4s 97ms/step - loss: 0.3269 - accuracy: 0.8698 - val_loss: 0.3701 - val_accuracy: 0.8321\n",
            "Epoch 8/300\n",
            "40/40 [==============================] - ETA: 0s - loss: 0.2846 - accuracy: 0.8849\n",
            "Epoch 00008: val_accuracy improved from 0.83214 to 0.83929, saving model to /content/drive/My Drive/LungComplete2-1/Train_0008 Acc0.8393 Loss0.39\n",
            "40/40 [==============================] - 4s 97ms/step - loss: 0.2846 - accuracy: 0.8849 - val_loss: 0.3904 - val_accuracy: 0.8393\n",
            "Epoch 9/300\n",
            "39/40 [============================>.] - ETA: 0s - loss: 0.2894 - accuracy: 0.8850\n",
            "Epoch 00009: val_accuracy did not improve from 0.83929\n",
            "40/40 [==============================] - 4s 95ms/step - loss: 0.2885 - accuracy: 0.8853 - val_loss: 0.4829 - val_accuracy: 0.8286\n",
            "Epoch 10/300\n",
            "40/40 [==============================] - ETA: 0s - loss: 0.2793 - accuracy: 0.8833\n",
            "Epoch 00010: val_accuracy improved from 0.83929 to 0.85357, saving model to /content/drive/My Drive/LungComplete2-1/Train_0010 Acc0.8536 Loss0.31\n",
            "40/40 [==============================] - 4s 97ms/step - loss: 0.2793 - accuracy: 0.8833 - val_loss: 0.3062 - val_accuracy: 0.8536\n",
            "Epoch 11/300\n",
            "40/40 [==============================] - ETA: 0s - loss: 0.2854 - accuracy: 0.8782\n",
            "Epoch 00011: val_accuracy did not improve from 0.85357\n",
            "40/40 [==============================] - 4s 95ms/step - loss: 0.2854 - accuracy: 0.8782 - val_loss: 0.3401 - val_accuracy: 0.8500\n",
            "Epoch 12/300\n",
            "40/40 [==============================] - ETA: 0s - loss: 0.2652 - accuracy: 0.8964\n",
            "Epoch 00012: val_accuracy improved from 0.85357 to 0.88571, saving model to /content/drive/My Drive/LungComplete2-1/Train_0012 Acc0.8857 Loss0.30\n",
            "40/40 [==============================] - 4s 98ms/step - loss: 0.2652 - accuracy: 0.8964 - val_loss: 0.2960 - val_accuracy: 0.8857\n",
            "Epoch 13/300\n",
            "40/40 [==============================] - ETA: 0s - loss: 0.2567 - accuracy: 0.8940\n",
            "Epoch 00013: val_accuracy did not improve from 0.88571\n",
            "40/40 [==============================] - 4s 95ms/step - loss: 0.2567 - accuracy: 0.8940 - val_loss: 0.3407 - val_accuracy: 0.8321\n",
            "Epoch 14/300\n",
            "40/40 [==============================] - ETA: 0s - loss: 0.2173 - accuracy: 0.9131\n",
            "Epoch 00014: val_accuracy did not improve from 0.88571\n",
            "40/40 [==============================] - 4s 96ms/step - loss: 0.2173 - accuracy: 0.9131 - val_loss: 0.3824 - val_accuracy: 0.8571\n",
            "Epoch 15/300\n",
            "40/40 [==============================] - ETA: 0s - loss: 0.1852 - accuracy: 0.9262\n",
            "Epoch 00015: val_accuracy did not improve from 0.88571\n",
            "40/40 [==============================] - 4s 96ms/step - loss: 0.1852 - accuracy: 0.9262 - val_loss: 0.3685 - val_accuracy: 0.8679\n",
            "Epoch 16/300\n",
            "40/40 [==============================] - ETA: 0s - loss: 0.2048 - accuracy: 0.9246\n",
            "Epoch 00016: val_accuracy did not improve from 0.88571\n",
            "40/40 [==============================] - 4s 95ms/step - loss: 0.2048 - accuracy: 0.9246 - val_loss: 0.3819 - val_accuracy: 0.8214\n",
            "Epoch 17/300\n",
            "18/40 [============>.................] - ETA: 1s - loss: 0.2171 - accuracy: 0.9191"
          ],
          "name": "stdout"
        }
      ]
    },
    {
      "cell_type": "markdown",
      "metadata": {
        "id": "8gBZIAG7B9XS"
      },
      "source": [
        "#**Discuss and Analysis**\n",
        "There were so many models that I can twick or choice by the multiple selection of optimizers, loss functions, the ways of preprocessing, etc.\n",
        "\n",
        "---\n",
        "\n",
        "###**The Model Architecture**\n"
      ]
    },
    {
      "cell_type": "code",
      "metadata": {
        "colab": {
          "base_uri": "https://localhost:8080/",
          "height": 1000
        },
        "id": "0qdGANI7NWlW",
        "outputId": "82c87296-8b3d-4766-c023-e3c0ce1f58bf"
      },
      "source": [
        "from IPython.display import SVG\n",
        "from keras.utils.vis_utils import model_to_dot\n",
        "\n",
        "%matplotlib inline\n",
        "\n",
        "SVG(model_to_dot(model, show_shapes=True, dpi=70).create(prog='dot', format='svg'))"
      ],
      "execution_count": null,
      "outputs": [
        {
          "output_type": "execute_result",
          "data": {
            "text/plain": [
              "<IPython.core.display.SVG object>"
            ],
            "image/svg+xml": "<svg height=\"2958pt\" viewBox=\"0.00 0.00 450.00 3043.00\" width=\"437pt\" xmlns=\"http://www.w3.org/2000/svg\" xmlns:xlink=\"http://www.w3.org/1999/xlink\">\n<g class=\"graph\" id=\"graph0\" transform=\"scale(.9722 .9722) rotate(0) translate(4 3039)\">\n<title>G</title>\n<polygon fill=\"#ffffff\" points=\"-4,4 -4,-3039 446,-3039 446,4 -4,4\" stroke=\"transparent\"/>\n<!-- 140252637870232 -->\n<g class=\"node\" id=\"node1\">\n<title>140252637870232</title>\n<polygon fill=\"none\" points=\"42.5,-2988.5 42.5,-3034.5 399.5,-3034.5 399.5,-2988.5 42.5,-2988.5\" stroke=\"#000000\"/>\n<text fill=\"#000000\" font-family=\"Times,serif\" font-size=\"14.00\" text-anchor=\"middle\" x=\"138\" y=\"-3007.8\">conv2d_88_input: InputLayer</text>\n<polyline fill=\"none\" points=\"233.5,-2988.5 233.5,-3034.5 \" stroke=\"#000000\"/>\n<text fill=\"#000000\" font-family=\"Times,serif\" font-size=\"14.00\" text-anchor=\"middle\" x=\"262.5\" y=\"-3019.3\">input:</text>\n<polyline fill=\"none\" points=\"233.5,-3011.5 291.5,-3011.5 \" stroke=\"#000000\"/>\n<text fill=\"#000000\" font-family=\"Times,serif\" font-size=\"14.00\" text-anchor=\"middle\" x=\"262.5\" y=\"-2996.3\">output:</text>\n<polyline fill=\"none\" points=\"291.5,-2988.5 291.5,-3034.5 \" stroke=\"#000000\"/>\n<text fill=\"#000000\" font-family=\"Times,serif\" font-size=\"14.00\" text-anchor=\"middle\" x=\"345.5\" y=\"-3019.3\">[(?, 32, 32, 16)]</text>\n<polyline fill=\"none\" points=\"291.5,-3011.5 399.5,-3011.5 \" stroke=\"#000000\"/>\n<text fill=\"#000000\" font-family=\"Times,serif\" font-size=\"14.00\" text-anchor=\"middle\" x=\"345.5\" y=\"-2996.3\">[(?, 32, 32, 16)]</text>\n</g>\n<!-- 140252637871520 -->\n<g class=\"node\" id=\"node2\">\n<title>140252637871520</title>\n<polygon fill=\"none\" points=\"72.5,-2905.5 72.5,-2951.5 369.5,-2951.5 369.5,-2905.5 72.5,-2905.5\" stroke=\"#000000\"/>\n<text fill=\"#000000\" font-family=\"Times,serif\" font-size=\"14.00\" text-anchor=\"middle\" x=\"142.5\" y=\"-2924.8\">conv2d_88: Conv2D</text>\n<polyline fill=\"none\" points=\"212.5,-2905.5 212.5,-2951.5 \" stroke=\"#000000\"/>\n<text fill=\"#000000\" font-family=\"Times,serif\" font-size=\"14.00\" text-anchor=\"middle\" x=\"241.5\" y=\"-2936.3\">input:</text>\n<polyline fill=\"none\" points=\"212.5,-2928.5 270.5,-2928.5 \" stroke=\"#000000\"/>\n<text fill=\"#000000\" font-family=\"Times,serif\" font-size=\"14.00\" text-anchor=\"middle\" x=\"241.5\" y=\"-2913.3\">output:</text>\n<polyline fill=\"none\" points=\"270.5,-2905.5 270.5,-2951.5 \" stroke=\"#000000\"/>\n<text fill=\"#000000\" font-family=\"Times,serif\" font-size=\"14.00\" text-anchor=\"middle\" x=\"320\" y=\"-2936.3\">(?, 32, 32, 16)</text>\n<polyline fill=\"none\" points=\"270.5,-2928.5 369.5,-2928.5 \" stroke=\"#000000\"/>\n<text fill=\"#000000\" font-family=\"Times,serif\" font-size=\"14.00\" text-anchor=\"middle\" x=\"320\" y=\"-2913.3\">(?, 32, 32, 32)</text>\n</g>\n<!-- 140252637870232&#45;&gt;140252637871520 -->\n<g class=\"edge\" id=\"edge1\">\n<title>140252637870232-&gt;140252637871520</title>\n<path d=\"M221,-2988.3799C221,-2980.1745 221,-2970.7679 221,-2961.8786\" fill=\"none\" stroke=\"#000000\"/>\n<polygon fill=\"#000000\" points=\"224.5001,-2961.784 221,-2951.784 217.5001,-2961.784 224.5001,-2961.784\" stroke=\"#000000\"/>\n</g>\n<!-- 140252642033792 -->\n<g class=\"node\" id=\"node3\">\n<title>140252642033792</title>\n<polygon fill=\"none\" points=\"62,-2822.5 62,-2868.5 380,-2868.5 380,-2822.5 62,-2822.5\" stroke=\"#000000\"/>\n<text fill=\"#000000\" font-family=\"Times,serif\" font-size=\"14.00\" text-anchor=\"middle\" x=\"142.5\" y=\"-2841.8\">activation_99: Activation</text>\n<polyline fill=\"none\" points=\"223,-2822.5 223,-2868.5 \" stroke=\"#000000\"/>\n<text fill=\"#000000\" font-family=\"Times,serif\" font-size=\"14.00\" text-anchor=\"middle\" x=\"252\" y=\"-2853.3\">input:</text>\n<polyline fill=\"none\" points=\"223,-2845.5 281,-2845.5 \" stroke=\"#000000\"/>\n<text fill=\"#000000\" font-family=\"Times,serif\" font-size=\"14.00\" text-anchor=\"middle\" x=\"252\" y=\"-2830.3\">output:</text>\n<polyline fill=\"none\" points=\"281,-2822.5 281,-2868.5 \" stroke=\"#000000\"/>\n<text fill=\"#000000\" font-family=\"Times,serif\" font-size=\"14.00\" text-anchor=\"middle\" x=\"330.5\" y=\"-2853.3\">(?, 32, 32, 32)</text>\n<polyline fill=\"none\" points=\"281,-2845.5 380,-2845.5 \" stroke=\"#000000\"/>\n<text fill=\"#000000\" font-family=\"Times,serif\" font-size=\"14.00\" text-anchor=\"middle\" x=\"330.5\" y=\"-2830.3\">(?, 32, 32, 32)</text>\n</g>\n<!-- 140252637871520&#45;&gt;140252642033792 -->\n<g class=\"edge\" id=\"edge2\">\n<title>140252637871520-&gt;140252642033792</title>\n<path d=\"M221,-2905.3799C221,-2897.1745 221,-2887.7679 221,-2878.8786\" fill=\"none\" stroke=\"#000000\"/>\n<polygon fill=\"#000000\" points=\"224.5001,-2878.784 221,-2868.784 217.5001,-2878.784 224.5001,-2878.784\" stroke=\"#000000\"/>\n</g>\n<!-- 140252642036592 -->\n<g class=\"node\" id=\"node4\">\n<title>140252642036592</title>\n<polygon fill=\"none\" points=\"72.5,-2739.5 72.5,-2785.5 369.5,-2785.5 369.5,-2739.5 72.5,-2739.5\" stroke=\"#000000\"/>\n<text fill=\"#000000\" font-family=\"Times,serif\" font-size=\"14.00\" text-anchor=\"middle\" x=\"142.5\" y=\"-2758.8\">conv2d_89: Conv2D</text>\n<polyline fill=\"none\" points=\"212.5,-2739.5 212.5,-2785.5 \" stroke=\"#000000\"/>\n<text fill=\"#000000\" font-family=\"Times,serif\" font-size=\"14.00\" text-anchor=\"middle\" x=\"241.5\" y=\"-2770.3\">input:</text>\n<polyline fill=\"none\" points=\"212.5,-2762.5 270.5,-2762.5 \" stroke=\"#000000\"/>\n<text fill=\"#000000\" font-family=\"Times,serif\" font-size=\"14.00\" text-anchor=\"middle\" x=\"241.5\" y=\"-2747.3\">output:</text>\n<polyline fill=\"none\" points=\"270.5,-2739.5 270.5,-2785.5 \" stroke=\"#000000\"/>\n<text fill=\"#000000\" font-family=\"Times,serif\" font-size=\"14.00\" text-anchor=\"middle\" x=\"320\" y=\"-2770.3\">(?, 32, 32, 32)</text>\n<polyline fill=\"none\" points=\"270.5,-2762.5 369.5,-2762.5 \" stroke=\"#000000\"/>\n<text fill=\"#000000\" font-family=\"Times,serif\" font-size=\"14.00\" text-anchor=\"middle\" x=\"320\" y=\"-2747.3\">(?, 30, 30, 32)</text>\n</g>\n<!-- 140252642033792&#45;&gt;140252642036592 -->\n<g class=\"edge\" id=\"edge3\">\n<title>140252642033792-&gt;140252642036592</title>\n<path d=\"M221,-2822.3799C221,-2814.1745 221,-2804.7679 221,-2795.8786\" fill=\"none\" stroke=\"#000000\"/>\n<polygon fill=\"#000000\" points=\"224.5001,-2795.784 221,-2785.784 217.5001,-2795.784 224.5001,-2795.784\" stroke=\"#000000\"/>\n</g>\n<!-- 140252637677440 -->\n<g class=\"node\" id=\"node5\">\n<title>140252637677440</title>\n<polygon fill=\"none\" points=\"58,-2656.5 58,-2702.5 384,-2702.5 384,-2656.5 58,-2656.5\" stroke=\"#000000\"/>\n<text fill=\"#000000\" font-family=\"Times,serif\" font-size=\"14.00\" text-anchor=\"middle\" x=\"142.5\" y=\"-2675.8\">activation_100: Activation</text>\n<polyline fill=\"none\" points=\"227,-2656.5 227,-2702.5 \" stroke=\"#000000\"/>\n<text fill=\"#000000\" font-family=\"Times,serif\" font-size=\"14.00\" text-anchor=\"middle\" x=\"256\" y=\"-2687.3\">input:</text>\n<polyline fill=\"none\" points=\"227,-2679.5 285,-2679.5 \" stroke=\"#000000\"/>\n<text fill=\"#000000\" font-family=\"Times,serif\" font-size=\"14.00\" text-anchor=\"middle\" x=\"256\" y=\"-2664.3\">output:</text>\n<polyline fill=\"none\" points=\"285,-2656.5 285,-2702.5 \" stroke=\"#000000\"/>\n<text fill=\"#000000\" font-family=\"Times,serif\" font-size=\"14.00\" text-anchor=\"middle\" x=\"334.5\" y=\"-2687.3\">(?, 30, 30, 32)</text>\n<polyline fill=\"none\" points=\"285,-2679.5 384,-2679.5 \" stroke=\"#000000\"/>\n<text fill=\"#000000\" font-family=\"Times,serif\" font-size=\"14.00\" text-anchor=\"middle\" x=\"334.5\" y=\"-2664.3\">(?, 30, 30, 32)</text>\n</g>\n<!-- 140252642036592&#45;&gt;140252637677440 -->\n<g class=\"edge\" id=\"edge4\">\n<title>140252642036592-&gt;140252637677440</title>\n<path d=\"M221,-2739.3799C221,-2731.1745 221,-2721.7679 221,-2712.8786\" fill=\"none\" stroke=\"#000000\"/>\n<polygon fill=\"#000000\" points=\"224.5001,-2712.784 221,-2702.784 217.5001,-2712.784 224.5001,-2712.784\" stroke=\"#000000\"/>\n</g>\n<!-- 140252637676096 -->\n<g class=\"node\" id=\"node6\">\n<title>140252637676096</title>\n<polygon fill=\"none\" points=\"0,-2573.5 0,-2619.5 442,-2619.5 442,-2573.5 0,-2573.5\" stroke=\"#000000\"/>\n<text fill=\"#000000\" font-family=\"Times,serif\" font-size=\"14.00\" text-anchor=\"middle\" x=\"142.5\" y=\"-2592.8\">batch_normalization_110: BatchNormalization</text>\n<polyline fill=\"none\" points=\"285,-2573.5 285,-2619.5 \" stroke=\"#000000\"/>\n<text fill=\"#000000\" font-family=\"Times,serif\" font-size=\"14.00\" text-anchor=\"middle\" x=\"314\" y=\"-2604.3\">input:</text>\n<polyline fill=\"none\" points=\"285,-2596.5 343,-2596.5 \" stroke=\"#000000\"/>\n<text fill=\"#000000\" font-family=\"Times,serif\" font-size=\"14.00\" text-anchor=\"middle\" x=\"314\" y=\"-2581.3\">output:</text>\n<polyline fill=\"none\" points=\"343,-2573.5 343,-2619.5 \" stroke=\"#000000\"/>\n<text fill=\"#000000\" font-family=\"Times,serif\" font-size=\"14.00\" text-anchor=\"middle\" x=\"392.5\" y=\"-2604.3\">(?, 30, 30, 32)</text>\n<polyline fill=\"none\" points=\"343,-2596.5 442,-2596.5 \" stroke=\"#000000\"/>\n<text fill=\"#000000\" font-family=\"Times,serif\" font-size=\"14.00\" text-anchor=\"middle\" x=\"392.5\" y=\"-2581.3\">(?, 30, 30, 32)</text>\n</g>\n<!-- 140252637677440&#45;&gt;140252637676096 -->\n<g class=\"edge\" id=\"edge5\">\n<title>140252637677440-&gt;140252637676096</title>\n<path d=\"M221,-2656.3799C221,-2648.1745 221,-2638.7679 221,-2629.8786\" fill=\"none\" stroke=\"#000000\"/>\n<polygon fill=\"#000000\" points=\"224.5001,-2629.784 221,-2619.784 217.5001,-2629.784 224.5001,-2629.784\" stroke=\"#000000\"/>\n</g>\n<!-- 140252637639624 -->\n<g class=\"node\" id=\"node7\">\n<title>140252637639624</title>\n<polygon fill=\"none\" points=\"28,-2490.5 28,-2536.5 414,-2536.5 414,-2490.5 28,-2490.5\" stroke=\"#000000\"/>\n<text fill=\"#000000\" font-family=\"Times,serif\" font-size=\"14.00\" text-anchor=\"middle\" x=\"142.5\" y=\"-2509.8\">max_pooling2d_44: MaxPooling2D</text>\n<polyline fill=\"none\" points=\"257,-2490.5 257,-2536.5 \" stroke=\"#000000\"/>\n<text fill=\"#000000\" font-family=\"Times,serif\" font-size=\"14.00\" text-anchor=\"middle\" x=\"286\" y=\"-2521.3\">input:</text>\n<polyline fill=\"none\" points=\"257,-2513.5 315,-2513.5 \" stroke=\"#000000\"/>\n<text fill=\"#000000\" font-family=\"Times,serif\" font-size=\"14.00\" text-anchor=\"middle\" x=\"286\" y=\"-2498.3\">output:</text>\n<polyline fill=\"none\" points=\"315,-2490.5 315,-2536.5 \" stroke=\"#000000\"/>\n<text fill=\"#000000\" font-family=\"Times,serif\" font-size=\"14.00\" text-anchor=\"middle\" x=\"364.5\" y=\"-2521.3\">(?, 30, 30, 32)</text>\n<polyline fill=\"none\" points=\"315,-2513.5 414,-2513.5 \" stroke=\"#000000\"/>\n<text fill=\"#000000\" font-family=\"Times,serif\" font-size=\"14.00\" text-anchor=\"middle\" x=\"364.5\" y=\"-2498.3\">(?, 15, 15, 32)</text>\n</g>\n<!-- 140252637676096&#45;&gt;140252637639624 -->\n<g class=\"edge\" id=\"edge6\">\n<title>140252637676096-&gt;140252637639624</title>\n<path d=\"M221,-2573.3799C221,-2565.1745 221,-2555.7679 221,-2546.8786\" fill=\"none\" stroke=\"#000000\"/>\n<polygon fill=\"#000000\" points=\"224.5001,-2546.784 221,-2536.784 217.5001,-2546.784 224.5001,-2546.784\" stroke=\"#000000\"/>\n</g>\n<!-- 140252637282256 -->\n<g class=\"node\" id=\"node8\">\n<title>140252637282256</title>\n<polygon fill=\"none\" points=\"72.5,-2407.5 72.5,-2453.5 369.5,-2453.5 369.5,-2407.5 72.5,-2407.5\" stroke=\"#000000\"/>\n<text fill=\"#000000\" font-family=\"Times,serif\" font-size=\"14.00\" text-anchor=\"middle\" x=\"142.5\" y=\"-2426.8\">conv2d_90: Conv2D</text>\n<polyline fill=\"none\" points=\"212.5,-2407.5 212.5,-2453.5 \" stroke=\"#000000\"/>\n<text fill=\"#000000\" font-family=\"Times,serif\" font-size=\"14.00\" text-anchor=\"middle\" x=\"241.5\" y=\"-2438.3\">input:</text>\n<polyline fill=\"none\" points=\"212.5,-2430.5 270.5,-2430.5 \" stroke=\"#000000\"/>\n<text fill=\"#000000\" font-family=\"Times,serif\" font-size=\"14.00\" text-anchor=\"middle\" x=\"241.5\" y=\"-2415.3\">output:</text>\n<polyline fill=\"none\" points=\"270.5,-2407.5 270.5,-2453.5 \" stroke=\"#000000\"/>\n<text fill=\"#000000\" font-family=\"Times,serif\" font-size=\"14.00\" text-anchor=\"middle\" x=\"320\" y=\"-2438.3\">(?, 15, 15, 32)</text>\n<polyline fill=\"none\" points=\"270.5,-2430.5 369.5,-2430.5 \" stroke=\"#000000\"/>\n<text fill=\"#000000\" font-family=\"Times,serif\" font-size=\"14.00\" text-anchor=\"middle\" x=\"320\" y=\"-2415.3\">(?, 15, 15, 64)</text>\n</g>\n<!-- 140252637639624&#45;&gt;140252637282256 -->\n<g class=\"edge\" id=\"edge7\">\n<title>140252637639624-&gt;140252637282256</title>\n<path d=\"M221,-2490.3799C221,-2482.1745 221,-2472.7679 221,-2463.8786\" fill=\"none\" stroke=\"#000000\"/>\n<polygon fill=\"#000000\" points=\"224.5001,-2463.784 221,-2453.784 217.5001,-2463.784 224.5001,-2463.784\" stroke=\"#000000\"/>\n</g>\n<!-- 140252637284056 -->\n<g class=\"node\" id=\"node9\">\n<title>140252637284056</title>\n<polygon fill=\"none\" points=\"58,-2324.5 58,-2370.5 384,-2370.5 384,-2324.5 58,-2324.5\" stroke=\"#000000\"/>\n<text fill=\"#000000\" font-family=\"Times,serif\" font-size=\"14.00\" text-anchor=\"middle\" x=\"142.5\" y=\"-2343.8\">activation_101: Activation</text>\n<polyline fill=\"none\" points=\"227,-2324.5 227,-2370.5 \" stroke=\"#000000\"/>\n<text fill=\"#000000\" font-family=\"Times,serif\" font-size=\"14.00\" text-anchor=\"middle\" x=\"256\" y=\"-2355.3\">input:</text>\n<polyline fill=\"none\" points=\"227,-2347.5 285,-2347.5 \" stroke=\"#000000\"/>\n<text fill=\"#000000\" font-family=\"Times,serif\" font-size=\"14.00\" text-anchor=\"middle\" x=\"256\" y=\"-2332.3\">output:</text>\n<polyline fill=\"none\" points=\"285,-2324.5 285,-2370.5 \" stroke=\"#000000\"/>\n<text fill=\"#000000\" font-family=\"Times,serif\" font-size=\"14.00\" text-anchor=\"middle\" x=\"334.5\" y=\"-2355.3\">(?, 15, 15, 64)</text>\n<polyline fill=\"none\" points=\"285,-2347.5 384,-2347.5 \" stroke=\"#000000\"/>\n<text fill=\"#000000\" font-family=\"Times,serif\" font-size=\"14.00\" text-anchor=\"middle\" x=\"334.5\" y=\"-2332.3\">(?, 15, 15, 64)</text>\n</g>\n<!-- 140252637282256&#45;&gt;140252637284056 -->\n<g class=\"edge\" id=\"edge8\">\n<title>140252637282256-&gt;140252637284056</title>\n<path d=\"M221,-2407.3799C221,-2399.1745 221,-2389.7679 221,-2380.8786\" fill=\"none\" stroke=\"#000000\"/>\n<polygon fill=\"#000000\" points=\"224.5001,-2380.784 221,-2370.784 217.5001,-2380.784 224.5001,-2380.784\" stroke=\"#000000\"/>\n</g>\n<!-- 140252637283776 -->\n<g class=\"node\" id=\"node10\">\n<title>140252637283776</title>\n<polygon fill=\"none\" points=\".5,-2241.5 .5,-2287.5 441.5,-2287.5 441.5,-2241.5 .5,-2241.5\" stroke=\"#000000\"/>\n<text fill=\"#000000\" font-family=\"Times,serif\" font-size=\"14.00\" text-anchor=\"middle\" x=\"142.5\" y=\"-2260.8\">batch_normalization_111: BatchNormalization</text>\n<polyline fill=\"none\" points=\"284.5,-2241.5 284.5,-2287.5 \" stroke=\"#000000\"/>\n<text fill=\"#000000\" font-family=\"Times,serif\" font-size=\"14.00\" text-anchor=\"middle\" x=\"313.5\" y=\"-2272.3\">input:</text>\n<polyline fill=\"none\" points=\"284.5,-2264.5 342.5,-2264.5 \" stroke=\"#000000\"/>\n<text fill=\"#000000\" font-family=\"Times,serif\" font-size=\"14.00\" text-anchor=\"middle\" x=\"313.5\" y=\"-2249.3\">output:</text>\n<polyline fill=\"none\" points=\"342.5,-2241.5 342.5,-2287.5 \" stroke=\"#000000\"/>\n<text fill=\"#000000\" font-family=\"Times,serif\" font-size=\"14.00\" text-anchor=\"middle\" x=\"392\" y=\"-2272.3\">(?, 15, 15, 64)</text>\n<polyline fill=\"none\" points=\"342.5,-2264.5 441.5,-2264.5 \" stroke=\"#000000\"/>\n<text fill=\"#000000\" font-family=\"Times,serif\" font-size=\"14.00\" text-anchor=\"middle\" x=\"392\" y=\"-2249.3\">(?, 15, 15, 64)</text>\n</g>\n<!-- 140252637284056&#45;&gt;140252637283776 -->\n<g class=\"edge\" id=\"edge9\">\n<title>140252637284056-&gt;140252637283776</title>\n<path d=\"M221,-2324.3799C221,-2316.1745 221,-2306.7679 221,-2297.8786\" fill=\"none\" stroke=\"#000000\"/>\n<polygon fill=\"#000000\" points=\"224.5001,-2297.784 221,-2287.784 217.5001,-2297.784 224.5001,-2297.784\" stroke=\"#000000\"/>\n</g>\n<!-- 140252637282656 -->\n<g class=\"node\" id=\"node11\">\n<title>140252637282656</title>\n<polygon fill=\"none\" points=\"72.5,-2158.5 72.5,-2204.5 369.5,-2204.5 369.5,-2158.5 72.5,-2158.5\" stroke=\"#000000\"/>\n<text fill=\"#000000\" font-family=\"Times,serif\" font-size=\"14.00\" text-anchor=\"middle\" x=\"142.5\" y=\"-2177.8\">conv2d_91: Conv2D</text>\n<polyline fill=\"none\" points=\"212.5,-2158.5 212.5,-2204.5 \" stroke=\"#000000\"/>\n<text fill=\"#000000\" font-family=\"Times,serif\" font-size=\"14.00\" text-anchor=\"middle\" x=\"241.5\" y=\"-2189.3\">input:</text>\n<polyline fill=\"none\" points=\"212.5,-2181.5 270.5,-2181.5 \" stroke=\"#000000\"/>\n<text fill=\"#000000\" font-family=\"Times,serif\" font-size=\"14.00\" text-anchor=\"middle\" x=\"241.5\" y=\"-2166.3\">output:</text>\n<polyline fill=\"none\" points=\"270.5,-2158.5 270.5,-2204.5 \" stroke=\"#000000\"/>\n<text fill=\"#000000\" font-family=\"Times,serif\" font-size=\"14.00\" text-anchor=\"middle\" x=\"320\" y=\"-2189.3\">(?, 15, 15, 64)</text>\n<polyline fill=\"none\" points=\"270.5,-2181.5 369.5,-2181.5 \" stroke=\"#000000\"/>\n<text fill=\"#000000\" font-family=\"Times,serif\" font-size=\"14.00\" text-anchor=\"middle\" x=\"320\" y=\"-2166.3\">(?, 13, 13, 64)</text>\n</g>\n<!-- 140252637283776&#45;&gt;140252637282656 -->\n<g class=\"edge\" id=\"edge10\">\n<title>140252637283776-&gt;140252637282656</title>\n<path d=\"M221,-2241.3799C221,-2233.1745 221,-2223.7679 221,-2214.8786\" fill=\"none\" stroke=\"#000000\"/>\n<polygon fill=\"#000000\" points=\"224.5001,-2214.784 221,-2204.784 217.5001,-2214.784 224.5001,-2214.784\" stroke=\"#000000\"/>\n</g>\n<!-- 140252637019216 -->\n<g class=\"node\" id=\"node12\">\n<title>140252637019216</title>\n<polygon fill=\"none\" points=\"58,-2075.5 58,-2121.5 384,-2121.5 384,-2075.5 58,-2075.5\" stroke=\"#000000\"/>\n<text fill=\"#000000\" font-family=\"Times,serif\" font-size=\"14.00\" text-anchor=\"middle\" x=\"142.5\" y=\"-2094.8\">activation_102: Activation</text>\n<polyline fill=\"none\" points=\"227,-2075.5 227,-2121.5 \" stroke=\"#000000\"/>\n<text fill=\"#000000\" font-family=\"Times,serif\" font-size=\"14.00\" text-anchor=\"middle\" x=\"256\" y=\"-2106.3\">input:</text>\n<polyline fill=\"none\" points=\"227,-2098.5 285,-2098.5 \" stroke=\"#000000\"/>\n<text fill=\"#000000\" font-family=\"Times,serif\" font-size=\"14.00\" text-anchor=\"middle\" x=\"256\" y=\"-2083.3\">output:</text>\n<polyline fill=\"none\" points=\"285,-2075.5 285,-2121.5 \" stroke=\"#000000\"/>\n<text fill=\"#000000\" font-family=\"Times,serif\" font-size=\"14.00\" text-anchor=\"middle\" x=\"334.5\" y=\"-2106.3\">(?, 13, 13, 64)</text>\n<polyline fill=\"none\" points=\"285,-2098.5 384,-2098.5 \" stroke=\"#000000\"/>\n<text fill=\"#000000\" font-family=\"Times,serif\" font-size=\"14.00\" text-anchor=\"middle\" x=\"334.5\" y=\"-2083.3\">(?, 13, 13, 64)</text>\n</g>\n<!-- 140252637282656&#45;&gt;140252637019216 -->\n<g class=\"edge\" id=\"edge11\">\n<title>140252637282656-&gt;140252637019216</title>\n<path d=\"M221,-2158.3799C221,-2150.1745 221,-2140.7679 221,-2131.8786\" fill=\"none\" stroke=\"#000000\"/>\n<polygon fill=\"#000000\" points=\"224.5001,-2131.784 221,-2121.784 217.5001,-2131.784 224.5001,-2131.784\" stroke=\"#000000\"/>\n</g>\n<!-- 140252637049688 -->\n<g class=\"node\" id=\"node13\">\n<title>140252637049688</title>\n<polygon fill=\"none\" points=\"0,-1992.5 0,-2038.5 442,-2038.5 442,-1992.5 0,-1992.5\" stroke=\"#000000\"/>\n<text fill=\"#000000\" font-family=\"Times,serif\" font-size=\"14.00\" text-anchor=\"middle\" x=\"142.5\" y=\"-2011.8\">batch_normalization_112: BatchNormalization</text>\n<polyline fill=\"none\" points=\"285,-1992.5 285,-2038.5 \" stroke=\"#000000\"/>\n<text fill=\"#000000\" font-family=\"Times,serif\" font-size=\"14.00\" text-anchor=\"middle\" x=\"314\" y=\"-2023.3\">input:</text>\n<polyline fill=\"none\" points=\"285,-2015.5 343,-2015.5 \" stroke=\"#000000\"/>\n<text fill=\"#000000\" font-family=\"Times,serif\" font-size=\"14.00\" text-anchor=\"middle\" x=\"314\" y=\"-2000.3\">output:</text>\n<polyline fill=\"none\" points=\"343,-1992.5 343,-2038.5 \" stroke=\"#000000\"/>\n<text fill=\"#000000\" font-family=\"Times,serif\" font-size=\"14.00\" text-anchor=\"middle\" x=\"392.5\" y=\"-2023.3\">(?, 13, 13, 64)</text>\n<polyline fill=\"none\" points=\"343,-2015.5 442,-2015.5 \" stroke=\"#000000\"/>\n<text fill=\"#000000\" font-family=\"Times,serif\" font-size=\"14.00\" text-anchor=\"middle\" x=\"392.5\" y=\"-2000.3\">(?, 13, 13, 64)</text>\n</g>\n<!-- 140252637019216&#45;&gt;140252637049688 -->\n<g class=\"edge\" id=\"edge12\">\n<title>140252637019216-&gt;140252637049688</title>\n<path d=\"M221,-2075.3799C221,-2067.1745 221,-2057.7679 221,-2048.8786\" fill=\"none\" stroke=\"#000000\"/>\n<polygon fill=\"#000000\" points=\"224.5001,-2048.784 221,-2038.784 217.5001,-2048.784 224.5001,-2048.784\" stroke=\"#000000\"/>\n</g>\n<!-- 140252637051256 -->\n<g class=\"node\" id=\"node14\">\n<title>140252637051256</title>\n<polygon fill=\"none\" points=\"28,-1909.5 28,-1955.5 414,-1955.5 414,-1909.5 28,-1909.5\" stroke=\"#000000\"/>\n<text fill=\"#000000\" font-family=\"Times,serif\" font-size=\"14.00\" text-anchor=\"middle\" x=\"142.5\" y=\"-1928.8\">max_pooling2d_45: MaxPooling2D</text>\n<polyline fill=\"none\" points=\"257,-1909.5 257,-1955.5 \" stroke=\"#000000\"/>\n<text fill=\"#000000\" font-family=\"Times,serif\" font-size=\"14.00\" text-anchor=\"middle\" x=\"286\" y=\"-1940.3\">input:</text>\n<polyline fill=\"none\" points=\"257,-1932.5 315,-1932.5 \" stroke=\"#000000\"/>\n<text fill=\"#000000\" font-family=\"Times,serif\" font-size=\"14.00\" text-anchor=\"middle\" x=\"286\" y=\"-1917.3\">output:</text>\n<polyline fill=\"none\" points=\"315,-1909.5 315,-1955.5 \" stroke=\"#000000\"/>\n<text fill=\"#000000\" font-family=\"Times,serif\" font-size=\"14.00\" text-anchor=\"middle\" x=\"364.5\" y=\"-1940.3\">(?, 13, 13, 64)</text>\n<polyline fill=\"none\" points=\"315,-1932.5 414,-1932.5 \" stroke=\"#000000\"/>\n<text fill=\"#000000\" font-family=\"Times,serif\" font-size=\"14.00\" text-anchor=\"middle\" x=\"364.5\" y=\"-1917.3\">(?, 6, 6, 64)</text>\n</g>\n<!-- 140252637049688&#45;&gt;140252637051256 -->\n<g class=\"edge\" id=\"edge13\">\n<title>140252637049688-&gt;140252637051256</title>\n<path d=\"M221,-1992.3799C221,-1984.1745 221,-1974.7679 221,-1965.8786\" fill=\"none\" stroke=\"#000000\"/>\n<polygon fill=\"#000000\" points=\"224.5001,-1965.784 221,-1955.784 217.5001,-1965.784 224.5001,-1965.784\" stroke=\"#000000\"/>\n</g>\n<!-- 140252637122176 -->\n<g class=\"node\" id=\"node15\">\n<title>140252637122176</title>\n<polygon fill=\"none\" points=\"80,-1826.5 80,-1872.5 362,-1872.5 362,-1826.5 80,-1826.5\" stroke=\"#000000\"/>\n<text fill=\"#000000\" font-family=\"Times,serif\" font-size=\"14.00\" text-anchor=\"middle\" x=\"150\" y=\"-1845.8\">conv2d_92: Conv2D</text>\n<polyline fill=\"none\" points=\"220,-1826.5 220,-1872.5 \" stroke=\"#000000\"/>\n<text fill=\"#000000\" font-family=\"Times,serif\" font-size=\"14.00\" text-anchor=\"middle\" x=\"249\" y=\"-1857.3\">input:</text>\n<polyline fill=\"none\" points=\"220,-1849.5 278,-1849.5 \" stroke=\"#000000\"/>\n<text fill=\"#000000\" font-family=\"Times,serif\" font-size=\"14.00\" text-anchor=\"middle\" x=\"249\" y=\"-1834.3\">output:</text>\n<polyline fill=\"none\" points=\"278,-1826.5 278,-1872.5 \" stroke=\"#000000\"/>\n<text fill=\"#000000\" font-family=\"Times,serif\" font-size=\"14.00\" text-anchor=\"middle\" x=\"320\" y=\"-1857.3\">(?, 6, 6, 64)</text>\n<polyline fill=\"none\" points=\"278,-1849.5 362,-1849.5 \" stroke=\"#000000\"/>\n<text fill=\"#000000\" font-family=\"Times,serif\" font-size=\"14.00\" text-anchor=\"middle\" x=\"320\" y=\"-1834.3\">(?, 6, 6, 64)</text>\n</g>\n<!-- 140252637051256&#45;&gt;140252637122176 -->\n<g class=\"edge\" id=\"edge14\">\n<title>140252637051256-&gt;140252637122176</title>\n<path d=\"M221,-1909.3799C221,-1901.1745 221,-1891.7679 221,-1882.8786\" fill=\"none\" stroke=\"#000000\"/>\n<polygon fill=\"#000000\" points=\"224.5001,-1882.784 221,-1872.784 217.5001,-1882.784 224.5001,-1882.784\" stroke=\"#000000\"/>\n</g>\n<!-- 140252637173688 -->\n<g class=\"node\" id=\"node16\">\n<title>140252637173688</title>\n<polygon fill=\"none\" points=\"65.5,-1743.5 65.5,-1789.5 376.5,-1789.5 376.5,-1743.5 65.5,-1743.5\" stroke=\"#000000\"/>\n<text fill=\"#000000\" font-family=\"Times,serif\" font-size=\"14.00\" text-anchor=\"middle\" x=\"150\" y=\"-1762.8\">activation_103: Activation</text>\n<polyline fill=\"none\" points=\"234.5,-1743.5 234.5,-1789.5 \" stroke=\"#000000\"/>\n<text fill=\"#000000\" font-family=\"Times,serif\" font-size=\"14.00\" text-anchor=\"middle\" x=\"263.5\" y=\"-1774.3\">input:</text>\n<polyline fill=\"none\" points=\"234.5,-1766.5 292.5,-1766.5 \" stroke=\"#000000\"/>\n<text fill=\"#000000\" font-family=\"Times,serif\" font-size=\"14.00\" text-anchor=\"middle\" x=\"263.5\" y=\"-1751.3\">output:</text>\n<polyline fill=\"none\" points=\"292.5,-1743.5 292.5,-1789.5 \" stroke=\"#000000\"/>\n<text fill=\"#000000\" font-family=\"Times,serif\" font-size=\"14.00\" text-anchor=\"middle\" x=\"334.5\" y=\"-1774.3\">(?, 6, 6, 64)</text>\n<polyline fill=\"none\" points=\"292.5,-1766.5 376.5,-1766.5 \" stroke=\"#000000\"/>\n<text fill=\"#000000\" font-family=\"Times,serif\" font-size=\"14.00\" text-anchor=\"middle\" x=\"334.5\" y=\"-1751.3\">(?, 6, 6, 64)</text>\n</g>\n<!-- 140252637122176&#45;&gt;140252637173688 -->\n<g class=\"edge\" id=\"edge15\">\n<title>140252637122176-&gt;140252637173688</title>\n<path d=\"M221,-1826.3799C221,-1818.1745 221,-1808.7679 221,-1799.8786\" fill=\"none\" stroke=\"#000000\"/>\n<polygon fill=\"#000000\" points=\"224.5001,-1799.784 221,-1789.784 217.5001,-1799.784 224.5001,-1799.784\" stroke=\"#000000\"/>\n</g>\n<!-- 140252637173352 -->\n<g class=\"node\" id=\"node17\">\n<title>140252637173352</title>\n<polygon fill=\"none\" points=\"7.5,-1660.5 7.5,-1706.5 434.5,-1706.5 434.5,-1660.5 7.5,-1660.5\" stroke=\"#000000\"/>\n<text fill=\"#000000\" font-family=\"Times,serif\" font-size=\"14.00\" text-anchor=\"middle\" x=\"150\" y=\"-1679.8\">batch_normalization_113: BatchNormalization</text>\n<polyline fill=\"none\" points=\"292.5,-1660.5 292.5,-1706.5 \" stroke=\"#000000\"/>\n<text fill=\"#000000\" font-family=\"Times,serif\" font-size=\"14.00\" text-anchor=\"middle\" x=\"321.5\" y=\"-1691.3\">input:</text>\n<polyline fill=\"none\" points=\"292.5,-1683.5 350.5,-1683.5 \" stroke=\"#000000\"/>\n<text fill=\"#000000\" font-family=\"Times,serif\" font-size=\"14.00\" text-anchor=\"middle\" x=\"321.5\" y=\"-1668.3\">output:</text>\n<polyline fill=\"none\" points=\"350.5,-1660.5 350.5,-1706.5 \" stroke=\"#000000\"/>\n<text fill=\"#000000\" font-family=\"Times,serif\" font-size=\"14.00\" text-anchor=\"middle\" x=\"392.5\" y=\"-1691.3\">(?, 6, 6, 64)</text>\n<polyline fill=\"none\" points=\"350.5,-1683.5 434.5,-1683.5 \" stroke=\"#000000\"/>\n<text fill=\"#000000\" font-family=\"Times,serif\" font-size=\"14.00\" text-anchor=\"middle\" x=\"392.5\" y=\"-1668.3\">(?, 6, 6, 64)</text>\n</g>\n<!-- 140252637173688&#45;&gt;140252637173352 -->\n<g class=\"edge\" id=\"edge16\">\n<title>140252637173688-&gt;140252637173352</title>\n<path d=\"M221,-1743.3799C221,-1735.1745 221,-1725.7679 221,-1716.8786\" fill=\"none\" stroke=\"#000000\"/>\n<polygon fill=\"#000000\" points=\"224.5001,-1716.784 221,-1706.784 217.5001,-1716.784 224.5001,-1716.784\" stroke=\"#000000\"/>\n</g>\n<!-- 140252637172288 -->\n<g class=\"node\" id=\"node18\">\n<title>140252637172288</title>\n<polygon fill=\"none\" points=\"80,-1577.5 80,-1623.5 362,-1623.5 362,-1577.5 80,-1577.5\" stroke=\"#000000\"/>\n<text fill=\"#000000\" font-family=\"Times,serif\" font-size=\"14.00\" text-anchor=\"middle\" x=\"150\" y=\"-1596.8\">conv2d_93: Conv2D</text>\n<polyline fill=\"none\" points=\"220,-1577.5 220,-1623.5 \" stroke=\"#000000\"/>\n<text fill=\"#000000\" font-family=\"Times,serif\" font-size=\"14.00\" text-anchor=\"middle\" x=\"249\" y=\"-1608.3\">input:</text>\n<polyline fill=\"none\" points=\"220,-1600.5 278,-1600.5 \" stroke=\"#000000\"/>\n<text fill=\"#000000\" font-family=\"Times,serif\" font-size=\"14.00\" text-anchor=\"middle\" x=\"249\" y=\"-1585.3\">output:</text>\n<polyline fill=\"none\" points=\"278,-1577.5 278,-1623.5 \" stroke=\"#000000\"/>\n<text fill=\"#000000\" font-family=\"Times,serif\" font-size=\"14.00\" text-anchor=\"middle\" x=\"320\" y=\"-1608.3\">(?, 6, 6, 64)</text>\n<polyline fill=\"none\" points=\"278,-1600.5 362,-1600.5 \" stroke=\"#000000\"/>\n<text fill=\"#000000\" font-family=\"Times,serif\" font-size=\"14.00\" text-anchor=\"middle\" x=\"320\" y=\"-1585.3\">(?, 6, 6, 64)</text>\n</g>\n<!-- 140252637173352&#45;&gt;140252637172288 -->\n<g class=\"edge\" id=\"edge17\">\n<title>140252637173352-&gt;140252637172288</title>\n<path d=\"M221,-1660.3799C221,-1652.1745 221,-1642.7679 221,-1633.8786\" fill=\"none\" stroke=\"#000000\"/>\n<polygon fill=\"#000000\" points=\"224.5001,-1633.784 221,-1623.784 217.5001,-1633.784 224.5001,-1633.784\" stroke=\"#000000\"/>\n</g>\n<!-- 140252636765488 -->\n<g class=\"node\" id=\"node19\">\n<title>140252636765488</title>\n<polygon fill=\"none\" points=\"65.5,-1494.5 65.5,-1540.5 376.5,-1540.5 376.5,-1494.5 65.5,-1494.5\" stroke=\"#000000\"/>\n<text fill=\"#000000\" font-family=\"Times,serif\" font-size=\"14.00\" text-anchor=\"middle\" x=\"150\" y=\"-1513.8\">activation_104: Activation</text>\n<polyline fill=\"none\" points=\"234.5,-1494.5 234.5,-1540.5 \" stroke=\"#000000\"/>\n<text fill=\"#000000\" font-family=\"Times,serif\" font-size=\"14.00\" text-anchor=\"middle\" x=\"263.5\" y=\"-1525.3\">input:</text>\n<polyline fill=\"none\" points=\"234.5,-1517.5 292.5,-1517.5 \" stroke=\"#000000\"/>\n<text fill=\"#000000\" font-family=\"Times,serif\" font-size=\"14.00\" text-anchor=\"middle\" x=\"263.5\" y=\"-1502.3\">output:</text>\n<polyline fill=\"none\" points=\"292.5,-1494.5 292.5,-1540.5 \" stroke=\"#000000\"/>\n<text fill=\"#000000\" font-family=\"Times,serif\" font-size=\"14.00\" text-anchor=\"middle\" x=\"334.5\" y=\"-1525.3\">(?, 6, 6, 64)</text>\n<polyline fill=\"none\" points=\"292.5,-1517.5 376.5,-1517.5 \" stroke=\"#000000\"/>\n<text fill=\"#000000\" font-family=\"Times,serif\" font-size=\"14.00\" text-anchor=\"middle\" x=\"334.5\" y=\"-1502.3\">(?, 6, 6, 64)</text>\n</g>\n<!-- 140252637172288&#45;&gt;140252636765488 -->\n<g class=\"edge\" id=\"edge18\">\n<title>140252637172288-&gt;140252636765488</title>\n<path d=\"M221,-1577.3799C221,-1569.1745 221,-1559.7679 221,-1550.8786\" fill=\"none\" stroke=\"#000000\"/>\n<polygon fill=\"#000000\" points=\"224.5001,-1550.784 221,-1540.784 217.5001,-1550.784 224.5001,-1550.784\" stroke=\"#000000\"/>\n</g>\n<!-- 140252636787768 -->\n<g class=\"node\" id=\"node20\">\n<title>140252636787768</title>\n<polygon fill=\"none\" points=\"7.5,-1411.5 7.5,-1457.5 434.5,-1457.5 434.5,-1411.5 7.5,-1411.5\" stroke=\"#000000\"/>\n<text fill=\"#000000\" font-family=\"Times,serif\" font-size=\"14.00\" text-anchor=\"middle\" x=\"150\" y=\"-1430.8\">batch_normalization_114: BatchNormalization</text>\n<polyline fill=\"none\" points=\"292.5,-1411.5 292.5,-1457.5 \" stroke=\"#000000\"/>\n<text fill=\"#000000\" font-family=\"Times,serif\" font-size=\"14.00\" text-anchor=\"middle\" x=\"321.5\" y=\"-1442.3\">input:</text>\n<polyline fill=\"none\" points=\"292.5,-1434.5 350.5,-1434.5 \" stroke=\"#000000\"/>\n<text fill=\"#000000\" font-family=\"Times,serif\" font-size=\"14.00\" text-anchor=\"middle\" x=\"321.5\" y=\"-1419.3\">output:</text>\n<polyline fill=\"none\" points=\"350.5,-1411.5 350.5,-1457.5 \" stroke=\"#000000\"/>\n<text fill=\"#000000\" font-family=\"Times,serif\" font-size=\"14.00\" text-anchor=\"middle\" x=\"392.5\" y=\"-1442.3\">(?, 6, 6, 64)</text>\n<polyline fill=\"none\" points=\"350.5,-1434.5 434.5,-1434.5 \" stroke=\"#000000\"/>\n<text fill=\"#000000\" font-family=\"Times,serif\" font-size=\"14.00\" text-anchor=\"middle\" x=\"392.5\" y=\"-1419.3\">(?, 6, 6, 64)</text>\n</g>\n<!-- 140252636765488&#45;&gt;140252636787768 -->\n<g class=\"edge\" id=\"edge19\">\n<title>140252636765488-&gt;140252636787768</title>\n<path d=\"M221,-1494.3799C221,-1486.1745 221,-1476.7679 221,-1467.8786\" fill=\"none\" stroke=\"#000000\"/>\n<polygon fill=\"#000000\" points=\"224.5001,-1467.784 221,-1457.784 217.5001,-1467.784 224.5001,-1467.784\" stroke=\"#000000\"/>\n</g>\n<!-- 140252636789336 -->\n<g class=\"node\" id=\"node21\">\n<title>140252636789336</title>\n<polygon fill=\"none\" points=\"35.5,-1328.5 35.5,-1374.5 406.5,-1374.5 406.5,-1328.5 35.5,-1328.5\" stroke=\"#000000\"/>\n<text fill=\"#000000\" font-family=\"Times,serif\" font-size=\"14.00\" text-anchor=\"middle\" x=\"150\" y=\"-1347.8\">max_pooling2d_46: MaxPooling2D</text>\n<polyline fill=\"none\" points=\"264.5,-1328.5 264.5,-1374.5 \" stroke=\"#000000\"/>\n<text fill=\"#000000\" font-family=\"Times,serif\" font-size=\"14.00\" text-anchor=\"middle\" x=\"293.5\" y=\"-1359.3\">input:</text>\n<polyline fill=\"none\" points=\"264.5,-1351.5 322.5,-1351.5 \" stroke=\"#000000\"/>\n<text fill=\"#000000\" font-family=\"Times,serif\" font-size=\"14.00\" text-anchor=\"middle\" x=\"293.5\" y=\"-1336.3\">output:</text>\n<polyline fill=\"none\" points=\"322.5,-1328.5 322.5,-1374.5 \" stroke=\"#000000\"/>\n<text fill=\"#000000\" font-family=\"Times,serif\" font-size=\"14.00\" text-anchor=\"middle\" x=\"364.5\" y=\"-1359.3\">(?, 6, 6, 64)</text>\n<polyline fill=\"none\" points=\"322.5,-1351.5 406.5,-1351.5 \" stroke=\"#000000\"/>\n<text fill=\"#000000\" font-family=\"Times,serif\" font-size=\"14.00\" text-anchor=\"middle\" x=\"364.5\" y=\"-1336.3\">(?, 6, 6, 64)</text>\n</g>\n<!-- 140252636787768&#45;&gt;140252636789336 -->\n<g class=\"edge\" id=\"edge20\">\n<title>140252636787768-&gt;140252636789336</title>\n<path d=\"M221,-1411.3799C221,-1403.1745 221,-1393.7679 221,-1384.8786\" fill=\"none\" stroke=\"#000000\"/>\n<polygon fill=\"#000000\" points=\"224.5001,-1384.784 221,-1374.784 217.5001,-1384.784 224.5001,-1384.784\" stroke=\"#000000\"/>\n</g>\n<!-- 140252636872544 -->\n<g class=\"node\" id=\"node22\">\n<title>140252636872544</title>\n<polygon fill=\"none\" points=\"80,-1245.5 80,-1291.5 362,-1291.5 362,-1245.5 80,-1245.5\" stroke=\"#000000\"/>\n<text fill=\"#000000\" font-family=\"Times,serif\" font-size=\"14.00\" text-anchor=\"middle\" x=\"150\" y=\"-1264.8\">conv2d_94: Conv2D</text>\n<polyline fill=\"none\" points=\"220,-1245.5 220,-1291.5 \" stroke=\"#000000\"/>\n<text fill=\"#000000\" font-family=\"Times,serif\" font-size=\"14.00\" text-anchor=\"middle\" x=\"249\" y=\"-1276.3\">input:</text>\n<polyline fill=\"none\" points=\"220,-1268.5 278,-1268.5 \" stroke=\"#000000\"/>\n<text fill=\"#000000\" font-family=\"Times,serif\" font-size=\"14.00\" text-anchor=\"middle\" x=\"249\" y=\"-1253.3\">output:</text>\n<polyline fill=\"none\" points=\"278,-1245.5 278,-1291.5 \" stroke=\"#000000\"/>\n<text fill=\"#000000\" font-family=\"Times,serif\" font-size=\"14.00\" text-anchor=\"middle\" x=\"320\" y=\"-1276.3\">(?, 6, 6, 64)</text>\n<polyline fill=\"none\" points=\"278,-1268.5 362,-1268.5 \" stroke=\"#000000\"/>\n<text fill=\"#000000\" font-family=\"Times,serif\" font-size=\"14.00\" text-anchor=\"middle\" x=\"320\" y=\"-1253.3\">(?, 6, 6, 64)</text>\n</g>\n<!-- 140252636789336&#45;&gt;140252636872544 -->\n<g class=\"edge\" id=\"edge21\">\n<title>140252636789336-&gt;140252636872544</title>\n<path d=\"M221,-1328.3799C221,-1320.1745 221,-1310.7679 221,-1301.8786\" fill=\"none\" stroke=\"#000000\"/>\n<polygon fill=\"#000000\" points=\"224.5001,-1301.784 221,-1291.784 217.5001,-1301.784 224.5001,-1301.784\" stroke=\"#000000\"/>\n</g>\n<!-- 140252636936344 -->\n<g class=\"node\" id=\"node23\">\n<title>140252636936344</title>\n<polygon fill=\"none\" points=\"65.5,-1162.5 65.5,-1208.5 376.5,-1208.5 376.5,-1162.5 65.5,-1162.5\" stroke=\"#000000\"/>\n<text fill=\"#000000\" font-family=\"Times,serif\" font-size=\"14.00\" text-anchor=\"middle\" x=\"150\" y=\"-1181.8\">activation_105: Activation</text>\n<polyline fill=\"none\" points=\"234.5,-1162.5 234.5,-1208.5 \" stroke=\"#000000\"/>\n<text fill=\"#000000\" font-family=\"Times,serif\" font-size=\"14.00\" text-anchor=\"middle\" x=\"263.5\" y=\"-1193.3\">input:</text>\n<polyline fill=\"none\" points=\"234.5,-1185.5 292.5,-1185.5 \" stroke=\"#000000\"/>\n<text fill=\"#000000\" font-family=\"Times,serif\" font-size=\"14.00\" text-anchor=\"middle\" x=\"263.5\" y=\"-1170.3\">output:</text>\n<polyline fill=\"none\" points=\"292.5,-1162.5 292.5,-1208.5 \" stroke=\"#000000\"/>\n<text fill=\"#000000\" font-family=\"Times,serif\" font-size=\"14.00\" text-anchor=\"middle\" x=\"334.5\" y=\"-1193.3\">(?, 6, 6, 64)</text>\n<polyline fill=\"none\" points=\"292.5,-1185.5 376.5,-1185.5 \" stroke=\"#000000\"/>\n<text fill=\"#000000\" font-family=\"Times,serif\" font-size=\"14.00\" text-anchor=\"middle\" x=\"334.5\" y=\"-1170.3\">(?, 6, 6, 64)</text>\n</g>\n<!-- 140252636872544&#45;&gt;140252636936344 -->\n<g class=\"edge\" id=\"edge22\">\n<title>140252636872544-&gt;140252636936344</title>\n<path d=\"M221,-1245.3799C221,-1237.1745 221,-1227.7679 221,-1218.8786\" fill=\"none\" stroke=\"#000000\"/>\n<polygon fill=\"#000000\" points=\"224.5001,-1218.784 221,-1208.784 217.5001,-1218.784 224.5001,-1218.784\" stroke=\"#000000\"/>\n</g>\n<!-- 140252636936008 -->\n<g class=\"node\" id=\"node24\">\n<title>140252636936008</title>\n<polygon fill=\"none\" points=\"7.5,-1079.5 7.5,-1125.5 434.5,-1125.5 434.5,-1079.5 7.5,-1079.5\" stroke=\"#000000\"/>\n<text fill=\"#000000\" font-family=\"Times,serif\" font-size=\"14.00\" text-anchor=\"middle\" x=\"150\" y=\"-1098.8\">batch_normalization_115: BatchNormalization</text>\n<polyline fill=\"none\" points=\"292.5,-1079.5 292.5,-1125.5 \" stroke=\"#000000\"/>\n<text fill=\"#000000\" font-family=\"Times,serif\" font-size=\"14.00\" text-anchor=\"middle\" x=\"321.5\" y=\"-1110.3\">input:</text>\n<polyline fill=\"none\" points=\"292.5,-1102.5 350.5,-1102.5 \" stroke=\"#000000\"/>\n<text fill=\"#000000\" font-family=\"Times,serif\" font-size=\"14.00\" text-anchor=\"middle\" x=\"321.5\" y=\"-1087.3\">output:</text>\n<polyline fill=\"none\" points=\"350.5,-1079.5 350.5,-1125.5 \" stroke=\"#000000\"/>\n<text fill=\"#000000\" font-family=\"Times,serif\" font-size=\"14.00\" text-anchor=\"middle\" x=\"392.5\" y=\"-1110.3\">(?, 6, 6, 64)</text>\n<polyline fill=\"none\" points=\"350.5,-1102.5 434.5,-1102.5 \" stroke=\"#000000\"/>\n<text fill=\"#000000\" font-family=\"Times,serif\" font-size=\"14.00\" text-anchor=\"middle\" x=\"392.5\" y=\"-1087.3\">(?, 6, 6, 64)</text>\n</g>\n<!-- 140252636936344&#45;&gt;140252636936008 -->\n<g class=\"edge\" id=\"edge23\">\n<title>140252636936344-&gt;140252636936008</title>\n<path d=\"M221,-1162.3799C221,-1154.1745 221,-1144.7679 221,-1135.8786\" fill=\"none\" stroke=\"#000000\"/>\n<polygon fill=\"#000000\" points=\"224.5001,-1135.784 221,-1125.784 217.5001,-1135.784 224.5001,-1135.784\" stroke=\"#000000\"/>\n</g>\n<!-- 140252636934944 -->\n<g class=\"node\" id=\"node25\">\n<title>140252636934944</title>\n<polygon fill=\"none\" points=\"80,-996.5 80,-1042.5 362,-1042.5 362,-996.5 80,-996.5\" stroke=\"#000000\"/>\n<text fill=\"#000000\" font-family=\"Times,serif\" font-size=\"14.00\" text-anchor=\"middle\" x=\"150\" y=\"-1015.8\">conv2d_95: Conv2D</text>\n<polyline fill=\"none\" points=\"220,-996.5 220,-1042.5 \" stroke=\"#000000\"/>\n<text fill=\"#000000\" font-family=\"Times,serif\" font-size=\"14.00\" text-anchor=\"middle\" x=\"249\" y=\"-1027.3\">input:</text>\n<polyline fill=\"none\" points=\"220,-1019.5 278,-1019.5 \" stroke=\"#000000\"/>\n<text fill=\"#000000\" font-family=\"Times,serif\" font-size=\"14.00\" text-anchor=\"middle\" x=\"249\" y=\"-1004.3\">output:</text>\n<polyline fill=\"none\" points=\"278,-996.5 278,-1042.5 \" stroke=\"#000000\"/>\n<text fill=\"#000000\" font-family=\"Times,serif\" font-size=\"14.00\" text-anchor=\"middle\" x=\"320\" y=\"-1027.3\">(?, 6, 6, 64)</text>\n<polyline fill=\"none\" points=\"278,-1019.5 362,-1019.5 \" stroke=\"#000000\"/>\n<text fill=\"#000000\" font-family=\"Times,serif\" font-size=\"14.00\" text-anchor=\"middle\" x=\"320\" y=\"-1004.3\">(?, 4, 4, 64)</text>\n</g>\n<!-- 140252636936008&#45;&gt;140252636934944 -->\n<g class=\"edge\" id=\"edge24\">\n<title>140252636936008-&gt;140252636934944</title>\n<path d=\"M221,-1079.3799C221,-1071.1745 221,-1061.7679 221,-1052.8786\" fill=\"none\" stroke=\"#000000\"/>\n<polygon fill=\"#000000\" points=\"224.5001,-1052.784 221,-1042.784 217.5001,-1052.784 224.5001,-1052.784\" stroke=\"#000000\"/>\n</g>\n<!-- 140252636532240 -->\n<g class=\"node\" id=\"node26\">\n<title>140252636532240</title>\n<polygon fill=\"none\" points=\"65.5,-913.5 65.5,-959.5 376.5,-959.5 376.5,-913.5 65.5,-913.5\" stroke=\"#000000\"/>\n<text fill=\"#000000\" font-family=\"Times,serif\" font-size=\"14.00\" text-anchor=\"middle\" x=\"150\" y=\"-932.8\">activation_106: Activation</text>\n<polyline fill=\"none\" points=\"234.5,-913.5 234.5,-959.5 \" stroke=\"#000000\"/>\n<text fill=\"#000000\" font-family=\"Times,serif\" font-size=\"14.00\" text-anchor=\"middle\" x=\"263.5\" y=\"-944.3\">input:</text>\n<polyline fill=\"none\" points=\"234.5,-936.5 292.5,-936.5 \" stroke=\"#000000\"/>\n<text fill=\"#000000\" font-family=\"Times,serif\" font-size=\"14.00\" text-anchor=\"middle\" x=\"263.5\" y=\"-921.3\">output:</text>\n<polyline fill=\"none\" points=\"292.5,-913.5 292.5,-959.5 \" stroke=\"#000000\"/>\n<text fill=\"#000000\" font-family=\"Times,serif\" font-size=\"14.00\" text-anchor=\"middle\" x=\"334.5\" y=\"-944.3\">(?, 4, 4, 64)</text>\n<polyline fill=\"none\" points=\"292.5,-936.5 376.5,-936.5 \" stroke=\"#000000\"/>\n<text fill=\"#000000\" font-family=\"Times,serif\" font-size=\"14.00\" text-anchor=\"middle\" x=\"334.5\" y=\"-921.3\">(?, 4, 4, 64)</text>\n</g>\n<!-- 140252636934944&#45;&gt;140252636532240 -->\n<g class=\"edge\" id=\"edge25\">\n<title>140252636934944-&gt;140252636532240</title>\n<path d=\"M221,-996.3799C221,-988.1745 221,-978.7679 221,-969.8786\" fill=\"none\" stroke=\"#000000\"/>\n<polygon fill=\"#000000\" points=\"224.5001,-969.784 221,-959.784 217.5001,-969.784 224.5001,-969.784\" stroke=\"#000000\"/>\n</g>\n<!-- 140252636550424 -->\n<g class=\"node\" id=\"node27\">\n<title>140252636550424</title>\n<polygon fill=\"none\" points=\"7.5,-830.5 7.5,-876.5 434.5,-876.5 434.5,-830.5 7.5,-830.5\" stroke=\"#000000\"/>\n<text fill=\"#000000\" font-family=\"Times,serif\" font-size=\"14.00\" text-anchor=\"middle\" x=\"150\" y=\"-849.8\">batch_normalization_116: BatchNormalization</text>\n<polyline fill=\"none\" points=\"292.5,-830.5 292.5,-876.5 \" stroke=\"#000000\"/>\n<text fill=\"#000000\" font-family=\"Times,serif\" font-size=\"14.00\" text-anchor=\"middle\" x=\"321.5\" y=\"-861.3\">input:</text>\n<polyline fill=\"none\" points=\"292.5,-853.5 350.5,-853.5 \" stroke=\"#000000\"/>\n<text fill=\"#000000\" font-family=\"Times,serif\" font-size=\"14.00\" text-anchor=\"middle\" x=\"321.5\" y=\"-838.3\">output:</text>\n<polyline fill=\"none\" points=\"350.5,-830.5 350.5,-876.5 \" stroke=\"#000000\"/>\n<text fill=\"#000000\" font-family=\"Times,serif\" font-size=\"14.00\" text-anchor=\"middle\" x=\"392.5\" y=\"-861.3\">(?, 4, 4, 64)</text>\n<polyline fill=\"none\" points=\"350.5,-853.5 434.5,-853.5 \" stroke=\"#000000\"/>\n<text fill=\"#000000\" font-family=\"Times,serif\" font-size=\"14.00\" text-anchor=\"middle\" x=\"392.5\" y=\"-838.3\">(?, 4, 4, 64)</text>\n</g>\n<!-- 140252636532240&#45;&gt;140252636550424 -->\n<g class=\"edge\" id=\"edge26\">\n<title>140252636532240-&gt;140252636550424</title>\n<path d=\"M221,-913.3799C221,-905.1745 221,-895.7679 221,-886.8786\" fill=\"none\" stroke=\"#000000\"/>\n<polygon fill=\"#000000\" points=\"224.5001,-886.784 221,-876.784 217.5001,-886.784 224.5001,-886.784\" stroke=\"#000000\"/>\n</g>\n<!-- 140252636551992 -->\n<g class=\"node\" id=\"node28\">\n<title>140252636551992</title>\n<polygon fill=\"none\" points=\"35.5,-747.5 35.5,-793.5 406.5,-793.5 406.5,-747.5 35.5,-747.5\" stroke=\"#000000\"/>\n<text fill=\"#000000\" font-family=\"Times,serif\" font-size=\"14.00\" text-anchor=\"middle\" x=\"150\" y=\"-766.8\">max_pooling2d_47: MaxPooling2D</text>\n<polyline fill=\"none\" points=\"264.5,-747.5 264.5,-793.5 \" stroke=\"#000000\"/>\n<text fill=\"#000000\" font-family=\"Times,serif\" font-size=\"14.00\" text-anchor=\"middle\" x=\"293.5\" y=\"-778.3\">input:</text>\n<polyline fill=\"none\" points=\"264.5,-770.5 322.5,-770.5 \" stroke=\"#000000\"/>\n<text fill=\"#000000\" font-family=\"Times,serif\" font-size=\"14.00\" text-anchor=\"middle\" x=\"293.5\" y=\"-755.3\">output:</text>\n<polyline fill=\"none\" points=\"322.5,-747.5 322.5,-793.5 \" stroke=\"#000000\"/>\n<text fill=\"#000000\" font-family=\"Times,serif\" font-size=\"14.00\" text-anchor=\"middle\" x=\"364.5\" y=\"-778.3\">(?, 4, 4, 64)</text>\n<polyline fill=\"none\" points=\"322.5,-770.5 406.5,-770.5 \" stroke=\"#000000\"/>\n<text fill=\"#000000\" font-family=\"Times,serif\" font-size=\"14.00\" text-anchor=\"middle\" x=\"364.5\" y=\"-755.3\">(?, 2, 2, 64)</text>\n</g>\n<!-- 140252636550424&#45;&gt;140252636551992 -->\n<g class=\"edge\" id=\"edge27\">\n<title>140252636550424-&gt;140252636551992</title>\n<path d=\"M221,-830.3799C221,-822.1745 221,-812.7679 221,-803.8786\" fill=\"none\" stroke=\"#000000\"/>\n<polygon fill=\"#000000\" points=\"224.5001,-803.784 221,-793.784 217.5001,-803.784 224.5001,-803.784\" stroke=\"#000000\"/>\n</g>\n<!-- 140252636581000 -->\n<g class=\"node\" id=\"node29\">\n<title>140252636581000</title>\n<polygon fill=\"none\" points=\"90,-664.5 90,-710.5 352,-710.5 352,-664.5 90,-664.5\" stroke=\"#000000\"/>\n<text fill=\"#000000\" font-family=\"Times,serif\" font-size=\"14.00\" text-anchor=\"middle\" x=\"150\" y=\"-683.8\">flatten_11: Flatten</text>\n<polyline fill=\"none\" points=\"210,-664.5 210,-710.5 \" stroke=\"#000000\"/>\n<text fill=\"#000000\" font-family=\"Times,serif\" font-size=\"14.00\" text-anchor=\"middle\" x=\"239\" y=\"-695.3\">input:</text>\n<polyline fill=\"none\" points=\"210,-687.5 268,-687.5 \" stroke=\"#000000\"/>\n<text fill=\"#000000\" font-family=\"Times,serif\" font-size=\"14.00\" text-anchor=\"middle\" x=\"239\" y=\"-672.3\">output:</text>\n<polyline fill=\"none\" points=\"268,-664.5 268,-710.5 \" stroke=\"#000000\"/>\n<text fill=\"#000000\" font-family=\"Times,serif\" font-size=\"14.00\" text-anchor=\"middle\" x=\"310\" y=\"-695.3\">(?, 2, 2, 64)</text>\n<polyline fill=\"none\" points=\"268,-687.5 352,-687.5 \" stroke=\"#000000\"/>\n<text fill=\"#000000\" font-family=\"Times,serif\" font-size=\"14.00\" text-anchor=\"middle\" x=\"310\" y=\"-672.3\">(?, 256)</text>\n</g>\n<!-- 140252636551992&#45;&gt;140252636581000 -->\n<g class=\"edge\" id=\"edge28\">\n<title>140252636551992-&gt;140252636581000</title>\n<path d=\"M221,-747.3799C221,-739.1745 221,-729.7679 221,-720.8786\" fill=\"none\" stroke=\"#000000\"/>\n<polygon fill=\"#000000\" points=\"224.5001,-720.784 221,-710.784 217.5001,-720.784 224.5001,-720.784\" stroke=\"#000000\"/>\n</g>\n<!-- 140252636658880 -->\n<g class=\"node\" id=\"node30\">\n<title>140252636658880</title>\n<polygon fill=\"none\" points=\"104,-581.5 104,-627.5 338,-627.5 338,-581.5 104,-581.5\" stroke=\"#000000\"/>\n<text fill=\"#000000\" font-family=\"Times,serif\" font-size=\"14.00\" text-anchor=\"middle\" x=\"161\" y=\"-600.8\">dense_44: Dense</text>\n<polyline fill=\"none\" points=\"218,-581.5 218,-627.5 \" stroke=\"#000000\"/>\n<text fill=\"#000000\" font-family=\"Times,serif\" font-size=\"14.00\" text-anchor=\"middle\" x=\"247\" y=\"-612.3\">input:</text>\n<polyline fill=\"none\" points=\"218,-604.5 276,-604.5 \" stroke=\"#000000\"/>\n<text fill=\"#000000\" font-family=\"Times,serif\" font-size=\"14.00\" text-anchor=\"middle\" x=\"247\" y=\"-589.3\">output:</text>\n<polyline fill=\"none\" points=\"276,-581.5 276,-627.5 \" stroke=\"#000000\"/>\n<text fill=\"#000000\" font-family=\"Times,serif\" font-size=\"14.00\" text-anchor=\"middle\" x=\"307\" y=\"-612.3\">(?, 256)</text>\n<polyline fill=\"none\" points=\"276,-604.5 338,-604.5 \" stroke=\"#000000\"/>\n<text fill=\"#000000\" font-family=\"Times,serif\" font-size=\"14.00\" text-anchor=\"middle\" x=\"307\" y=\"-589.3\">(?, 128)</text>\n</g>\n<!-- 140252636581000&#45;&gt;140252636658880 -->\n<g class=\"edge\" id=\"edge29\">\n<title>140252636581000-&gt;140252636658880</title>\n<path d=\"M221,-664.3799C221,-656.1745 221,-646.7679 221,-637.8786\" fill=\"none\" stroke=\"#000000\"/>\n<polygon fill=\"#000000\" points=\"224.5001,-637.784 221,-627.784 217.5001,-637.784 224.5001,-637.784\" stroke=\"#000000\"/>\n</g>\n<!-- 140252636699168 -->\n<g class=\"node\" id=\"node31\">\n<title>140252636699168</title>\n<polygon fill=\"none\" points=\"18.5,-498.5 18.5,-544.5 423.5,-544.5 423.5,-498.5 18.5,-498.5\" stroke=\"#000000\"/>\n<text fill=\"#000000\" font-family=\"Times,serif\" font-size=\"14.00\" text-anchor=\"middle\" x=\"161\" y=\"-517.8\">batch_normalization_117: BatchNormalization</text>\n<polyline fill=\"none\" points=\"303.5,-498.5 303.5,-544.5 \" stroke=\"#000000\"/>\n<text fill=\"#000000\" font-family=\"Times,serif\" font-size=\"14.00\" text-anchor=\"middle\" x=\"332.5\" y=\"-529.3\">input:</text>\n<polyline fill=\"none\" points=\"303.5,-521.5 361.5,-521.5 \" stroke=\"#000000\"/>\n<text fill=\"#000000\" font-family=\"Times,serif\" font-size=\"14.00\" text-anchor=\"middle\" x=\"332.5\" y=\"-506.3\">output:</text>\n<polyline fill=\"none\" points=\"361.5,-498.5 361.5,-544.5 \" stroke=\"#000000\"/>\n<text fill=\"#000000\" font-family=\"Times,serif\" font-size=\"14.00\" text-anchor=\"middle\" x=\"392.5\" y=\"-529.3\">(?, 128)</text>\n<polyline fill=\"none\" points=\"361.5,-521.5 423.5,-521.5 \" stroke=\"#000000\"/>\n<text fill=\"#000000\" font-family=\"Times,serif\" font-size=\"14.00\" text-anchor=\"middle\" x=\"392.5\" y=\"-506.3\">(?, 128)</text>\n</g>\n<!-- 140252636658880&#45;&gt;140252636699168 -->\n<g class=\"edge\" id=\"edge30\">\n<title>140252636658880-&gt;140252636699168</title>\n<path d=\"M221,-581.3799C221,-573.1745 221,-563.7679 221,-554.8786\" fill=\"none\" stroke=\"#000000\"/>\n<polygon fill=\"#000000\" points=\"224.5001,-554.784 221,-544.784 217.5001,-554.784 224.5001,-554.784\" stroke=\"#000000\"/>\n</g>\n<!-- 140252636700512 -->\n<g class=\"node\" id=\"node32\">\n<title>140252636700512</title>\n<polygon fill=\"none\" points=\"104,-415.5 104,-461.5 338,-461.5 338,-415.5 104,-415.5\" stroke=\"#000000\"/>\n<text fill=\"#000000\" font-family=\"Times,serif\" font-size=\"14.00\" text-anchor=\"middle\" x=\"161\" y=\"-434.8\">dense_45: Dense</text>\n<polyline fill=\"none\" points=\"218,-415.5 218,-461.5 \" stroke=\"#000000\"/>\n<text fill=\"#000000\" font-family=\"Times,serif\" font-size=\"14.00\" text-anchor=\"middle\" x=\"247\" y=\"-446.3\">input:</text>\n<polyline fill=\"none\" points=\"218,-438.5 276,-438.5 \" stroke=\"#000000\"/>\n<text fill=\"#000000\" font-family=\"Times,serif\" font-size=\"14.00\" text-anchor=\"middle\" x=\"247\" y=\"-423.3\">output:</text>\n<polyline fill=\"none\" points=\"276,-415.5 276,-461.5 \" stroke=\"#000000\"/>\n<text fill=\"#000000\" font-family=\"Times,serif\" font-size=\"14.00\" text-anchor=\"middle\" x=\"307\" y=\"-446.3\">(?, 128)</text>\n<polyline fill=\"none\" points=\"276,-438.5 338,-438.5 \" stroke=\"#000000\"/>\n<text fill=\"#000000\" font-family=\"Times,serif\" font-size=\"14.00\" text-anchor=\"middle\" x=\"307\" y=\"-423.3\">(?, 128)</text>\n</g>\n<!-- 140252636699168&#45;&gt;140252636700512 -->\n<g class=\"edge\" id=\"edge31\">\n<title>140252636699168-&gt;140252636700512</title>\n<path d=\"M221,-498.3799C221,-490.1745 221,-480.7679 221,-471.8786\" fill=\"none\" stroke=\"#000000\"/>\n<polygon fill=\"#000000\" points=\"224.5001,-471.784 221,-461.784 217.5001,-471.784 224.5001,-471.784\" stroke=\"#000000\"/>\n</g>\n<!-- 140252636304440 -->\n<g class=\"node\" id=\"node33\">\n<title>140252636304440</title>\n<polygon fill=\"none\" points=\"18.5,-332.5 18.5,-378.5 423.5,-378.5 423.5,-332.5 18.5,-332.5\" stroke=\"#000000\"/>\n<text fill=\"#000000\" font-family=\"Times,serif\" font-size=\"14.00\" text-anchor=\"middle\" x=\"161\" y=\"-351.8\">batch_normalization_118: BatchNormalization</text>\n<polyline fill=\"none\" points=\"303.5,-332.5 303.5,-378.5 \" stroke=\"#000000\"/>\n<text fill=\"#000000\" font-family=\"Times,serif\" font-size=\"14.00\" text-anchor=\"middle\" x=\"332.5\" y=\"-363.3\">input:</text>\n<polyline fill=\"none\" points=\"303.5,-355.5 361.5,-355.5 \" stroke=\"#000000\"/>\n<text fill=\"#000000\" font-family=\"Times,serif\" font-size=\"14.00\" text-anchor=\"middle\" x=\"332.5\" y=\"-340.3\">output:</text>\n<polyline fill=\"none\" points=\"361.5,-332.5 361.5,-378.5 \" stroke=\"#000000\"/>\n<text fill=\"#000000\" font-family=\"Times,serif\" font-size=\"14.00\" text-anchor=\"middle\" x=\"392.5\" y=\"-363.3\">(?, 128)</text>\n<polyline fill=\"none\" points=\"361.5,-355.5 423.5,-355.5 \" stroke=\"#000000\"/>\n<text fill=\"#000000\" font-family=\"Times,serif\" font-size=\"14.00\" text-anchor=\"middle\" x=\"392.5\" y=\"-340.3\">(?, 128)</text>\n</g>\n<!-- 140252636700512&#45;&gt;140252636304440 -->\n<g class=\"edge\" id=\"edge32\">\n<title>140252636700512-&gt;140252636304440</title>\n<path d=\"M221,-415.3799C221,-407.1745 221,-397.7679 221,-388.8786\" fill=\"none\" stroke=\"#000000\"/>\n<polygon fill=\"#000000\" points=\"224.5001,-388.784 221,-378.784 217.5001,-388.784 224.5001,-388.784\" stroke=\"#000000\"/>\n</g>\n<!-- 140252636333000 -->\n<g class=\"node\" id=\"node34\">\n<title>140252636333000</title>\n<polygon fill=\"none\" points=\"104,-249.5 104,-295.5 338,-295.5 338,-249.5 104,-249.5\" stroke=\"#000000\"/>\n<text fill=\"#000000\" font-family=\"Times,serif\" font-size=\"14.00\" text-anchor=\"middle\" x=\"161\" y=\"-268.8\">dense_46: Dense</text>\n<polyline fill=\"none\" points=\"218,-249.5 218,-295.5 \" stroke=\"#000000\"/>\n<text fill=\"#000000\" font-family=\"Times,serif\" font-size=\"14.00\" text-anchor=\"middle\" x=\"247\" y=\"-280.3\">input:</text>\n<polyline fill=\"none\" points=\"218,-272.5 276,-272.5 \" stroke=\"#000000\"/>\n<text fill=\"#000000\" font-family=\"Times,serif\" font-size=\"14.00\" text-anchor=\"middle\" x=\"247\" y=\"-257.3\">output:</text>\n<polyline fill=\"none\" points=\"276,-249.5 276,-295.5 \" stroke=\"#000000\"/>\n<text fill=\"#000000\" font-family=\"Times,serif\" font-size=\"14.00\" text-anchor=\"middle\" x=\"307\" y=\"-280.3\">(?, 128)</text>\n<polyline fill=\"none\" points=\"276,-272.5 338,-272.5 \" stroke=\"#000000\"/>\n<text fill=\"#000000\" font-family=\"Times,serif\" font-size=\"14.00\" text-anchor=\"middle\" x=\"307\" y=\"-257.3\">(?, 256)</text>\n</g>\n<!-- 140252636304440&#45;&gt;140252636333000 -->\n<g class=\"edge\" id=\"edge33\">\n<title>140252636304440-&gt;140252636333000</title>\n<path d=\"M221,-332.3799C221,-324.1745 221,-314.7679 221,-305.8786\" fill=\"none\" stroke=\"#000000\"/>\n<polygon fill=\"#000000\" points=\"224.5001,-305.784 221,-295.784 217.5001,-305.784 224.5001,-305.784\" stroke=\"#000000\"/>\n</g>\n<!-- 140252636451616 -->\n<g class=\"node\" id=\"node35\">\n<title>140252636451616</title>\n<polygon fill=\"none\" points=\"18.5,-166.5 18.5,-212.5 423.5,-212.5 423.5,-166.5 18.5,-166.5\" stroke=\"#000000\"/>\n<text fill=\"#000000\" font-family=\"Times,serif\" font-size=\"14.00\" text-anchor=\"middle\" x=\"161\" y=\"-185.8\">batch_normalization_119: BatchNormalization</text>\n<polyline fill=\"none\" points=\"303.5,-166.5 303.5,-212.5 \" stroke=\"#000000\"/>\n<text fill=\"#000000\" font-family=\"Times,serif\" font-size=\"14.00\" text-anchor=\"middle\" x=\"332.5\" y=\"-197.3\">input:</text>\n<polyline fill=\"none\" points=\"303.5,-189.5 361.5,-189.5 \" stroke=\"#000000\"/>\n<text fill=\"#000000\" font-family=\"Times,serif\" font-size=\"14.00\" text-anchor=\"middle\" x=\"332.5\" y=\"-174.3\">output:</text>\n<polyline fill=\"none\" points=\"361.5,-166.5 361.5,-212.5 \" stroke=\"#000000\"/>\n<text fill=\"#000000\" font-family=\"Times,serif\" font-size=\"14.00\" text-anchor=\"middle\" x=\"392.5\" y=\"-197.3\">(?, 256)</text>\n<polyline fill=\"none\" points=\"361.5,-189.5 423.5,-189.5 \" stroke=\"#000000\"/>\n<text fill=\"#000000\" font-family=\"Times,serif\" font-size=\"14.00\" text-anchor=\"middle\" x=\"392.5\" y=\"-174.3\">(?, 256)</text>\n</g>\n<!-- 140252636333000&#45;&gt;140252636451616 -->\n<g class=\"edge\" id=\"edge34\">\n<title>140252636333000-&gt;140252636451616</title>\n<path d=\"M221,-249.3799C221,-241.1745 221,-231.7679 221,-222.8786\" fill=\"none\" stroke=\"#000000\"/>\n<polygon fill=\"#000000\" points=\"224.5001,-222.784 221,-212.784 217.5001,-222.784 224.5001,-222.784\" stroke=\"#000000\"/>\n</g>\n<!-- 140252635961552 -->\n<g class=\"node\" id=\"node36\">\n<title>140252635961552</title>\n<polygon fill=\"none\" points=\"104,-83.5 104,-129.5 338,-129.5 338,-83.5 104,-83.5\" stroke=\"#000000\"/>\n<text fill=\"#000000\" font-family=\"Times,serif\" font-size=\"14.00\" text-anchor=\"middle\" x=\"161\" y=\"-102.8\">dense_47: Dense</text>\n<polyline fill=\"none\" points=\"218,-83.5 218,-129.5 \" stroke=\"#000000\"/>\n<text fill=\"#000000\" font-family=\"Times,serif\" font-size=\"14.00\" text-anchor=\"middle\" x=\"247\" y=\"-114.3\">input:</text>\n<polyline fill=\"none\" points=\"218,-106.5 276,-106.5 \" stroke=\"#000000\"/>\n<text fill=\"#000000\" font-family=\"Times,serif\" font-size=\"14.00\" text-anchor=\"middle\" x=\"247\" y=\"-91.3\">output:</text>\n<polyline fill=\"none\" points=\"276,-83.5 276,-129.5 \" stroke=\"#000000\"/>\n<text fill=\"#000000\" font-family=\"Times,serif\" font-size=\"14.00\" text-anchor=\"middle\" x=\"307\" y=\"-114.3\">(?, 256)</text>\n<polyline fill=\"none\" points=\"276,-106.5 338,-106.5 \" stroke=\"#000000\"/>\n<text fill=\"#000000\" font-family=\"Times,serif\" font-size=\"14.00\" text-anchor=\"middle\" x=\"307\" y=\"-91.3\">(?, 2)</text>\n</g>\n<!-- 140252636451616&#45;&gt;140252635961552 -->\n<g class=\"edge\" id=\"edge35\">\n<title>140252636451616-&gt;140252635961552</title>\n<path d=\"M221,-166.3799C221,-158.1745 221,-148.7679 221,-139.8786\" fill=\"none\" stroke=\"#000000\"/>\n<polygon fill=\"#000000\" points=\"224.5001,-139.784 221,-129.784 217.5001,-139.784 224.5001,-139.784\" stroke=\"#000000\"/>\n</g>\n<!-- 140252636063336 -->\n<g class=\"node\" id=\"node37\">\n<title>140252636063336</title>\n<polygon fill=\"none\" points=\"84,-.5 84,-46.5 358,-46.5 358,-.5 84,-.5\" stroke=\"#000000\"/>\n<text fill=\"#000000\" font-family=\"Times,serif\" font-size=\"14.00\" text-anchor=\"middle\" x=\"168.5\" y=\"-19.8\">activation_107: Activation</text>\n<polyline fill=\"none\" points=\"253,-.5 253,-46.5 \" stroke=\"#000000\"/>\n<text fill=\"#000000\" font-family=\"Times,serif\" font-size=\"14.00\" text-anchor=\"middle\" x=\"282\" y=\"-31.3\">input:</text>\n<polyline fill=\"none\" points=\"253,-23.5 311,-23.5 \" stroke=\"#000000\"/>\n<text fill=\"#000000\" font-family=\"Times,serif\" font-size=\"14.00\" text-anchor=\"middle\" x=\"282\" y=\"-8.3\">output:</text>\n<polyline fill=\"none\" points=\"311,-.5 311,-46.5 \" stroke=\"#000000\"/>\n<text fill=\"#000000\" font-family=\"Times,serif\" font-size=\"14.00\" text-anchor=\"middle\" x=\"334.5\" y=\"-31.3\">(?, 2)</text>\n<polyline fill=\"none\" points=\"311,-23.5 358,-23.5 \" stroke=\"#000000\"/>\n<text fill=\"#000000\" font-family=\"Times,serif\" font-size=\"14.00\" text-anchor=\"middle\" x=\"334.5\" y=\"-8.3\">(?, 2)</text>\n</g>\n<!-- 140252635961552&#45;&gt;140252636063336 -->\n<g class=\"edge\" id=\"edge36\">\n<title>140252635961552-&gt;140252636063336</title>\n<path d=\"M221,-83.3799C221,-75.1745 221,-65.7679 221,-56.8786\" fill=\"none\" stroke=\"#000000\"/>\n<polygon fill=\"#000000\" points=\"224.5001,-56.784 221,-46.784 217.5001,-56.784 224.5001,-56.784\" stroke=\"#000000\"/>\n</g>\n</g>\n</svg>"
          },
          "metadata": {
            "tags": []
          },
          "execution_count": 130
        }
      ]
    },
    {
      "cell_type": "markdown",
      "metadata": {
        "id": "nkpaWv_rNSk_"
      },
      "source": [
        "\n",
        "---\n",
        "###**About the Learning Rate**\n",
        "With the Various tweaks of learning rate especially, derived the vary results of the models as I run the models, the ***0.01*** of learning rate was most accurate to train the model as I ran. \n",
        "\n",
        "---\n",
        "###**Optimizers**\n",
        "With the two optimizers between ***RMSProp*** and ***ADAM***, The Adam was more accurate optimizer for the training the model, with the mean of the accuracy for the multiple train results as about\n",
        "\n",
        "####**Mean of the  multiple training accuracy using**\n",
        "\n",
        "> ***0.93 (RMSProps) < 0.94 (Adam)***\n",
        "\n",
        "---\n",
        "\n",
        "###**About the Activation Functions**\n",
        "\n",
        "The Activation functions of dense layers, rather than the ***RELU***, the ***Linear*** function derived more accurate results to the models. However, there're hard to find the reasons why the linear function is giving the better results than the RELU.\n",
        "\n",
        "---\n",
        "\n",
        "###**Accuracy, Loss of the Train Data**\n",
        "\n",
        "- ***loss: 0.0031*** \n",
        "- ***accuracy: 0.9988***\n",
        "---\n",
        "###**Accuracy, Loss of the Validation Data**\n",
        "- ***val_loss: 0.4978*** \n",
        "- ***val_accuracy: 0.9286***\n",
        "\n",
        "---\n",
        "##**Conclusion**\n",
        "\n",
        "The model of the validation accuracy, about 0.928 was not the best accuracy over all experiments, but the way of training all the data derived various results train by train.\n",
        "\n",
        "The validation loss was derived about 0.4978, still has some room for decrease, but end with the epoch 300.\n",
        "\n",
        "There were a lots of routes to get the most optimized results, However, it seems to be not easy to derive the detail about each twicks such as controlling the learning rate or the numbers of nodes etc.\n",
        "\n",
        "Though, the activation function and learning rate would seems to be the most sensitive variables to change the results of the final model.\n",
        "\n"
      ]
    }
  ]
}